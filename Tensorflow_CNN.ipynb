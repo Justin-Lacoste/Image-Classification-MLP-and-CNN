{
 "cells": [
  {
   "cell_type": "code",
   "execution_count": 3,
   "id": "58d21b97-cbd4-4449-88e3-ec2ee0ddd58d",
   "metadata": {},
   "outputs": [],
   "source": [
    "### IMPORTS ###\n",
    "from keras.datasets import cifar10\n",
    "import numpy as np\n",
    "import matplotlib.pyplot as plt\n",
    "from keras.utils import to_categorical\n",
    "import matplotlib.pyplot as plt\n",
    "import random"
   ]
  },
  {
   "cell_type": "code",
   "execution_count": 45,
   "id": "c42ff549-045a-4dbd-b685-678c79af61be",
   "metadata": {},
   "outputs": [],
   "source": [
    "#IMPORTS AND DATA PREPARATION\n",
    "import matplotlib.pyplot as plt\n",
    "import numpy as np\n",
    "import tensorflow as tf\n",
    "from tensorflow.keras import datasets, layers, models, optimizers\n",
    "\n",
    "(train_images, train_labels), (test_images, test_labels) = datasets.cifar10.load_data()\n",
    "train_images, test_images = train_images / 255.0, test_images / 255.0"
   ]
  },
  {
   "cell_type": "code",
   "execution_count": 5,
   "id": "e5de7ecb-1a9b-4e2d-9501-cc9ae94e1f00",
   "metadata": {},
   "outputs": [],
   "source": [
    "def display_results(history, model):\n",
    "  plt.plot(history.history['accuracy'], label='Train')\n",
    "  plt.plot(history.history['val_accuracy'], label = 'Test')\n",
    "  plt.xlabel('Number of Epochs')\n",
    "  plt.ylabel('Accuracy')\n",
    "  plt.legend(loc='lower right')\n",
    "  plt.show()\n",
    "  train_loss, train_acc = model.evaluate(train_images,  train_labels, verbose=2)\n",
    "  test_loss, test_acc = model.evaluate(test_images,  test_labels, verbose=2)\n",
    "  print(\"Training Accuracy: \", train_acc)\n",
    "  print(\"Test Accuracy: \", test_acc)"
   ]
  },
  {
   "cell_type": "code",
   "execution_count": null,
   "id": "102516a0-4e6f-4149-83af-9a3d6ae778b6",
   "metadata": {},
   "outputs": [],
   "source": [
    "########################\n",
    "##### EXPERIMENT 5 #####\n",
    "########################"
   ]
  },
  {
   "cell_type": "code",
   "execution_count": 14,
   "id": "dc1bab9b-a3d9-4478-ab72-2d3d1b71ebd1",
   "metadata": {},
   "outputs": [
    {
     "name": "stdout",
     "output_type": "stream",
     "text": [
      "Epoch 1/8\n",
      "1563/1563 [==============================] - 5s 3ms/step - loss: 2.1033 - accuracy: 0.2226 - val_loss: 1.9471 - val_accuracy: 0.3047\n",
      "Epoch 2/8\n",
      "1563/1563 [==============================] - 5s 3ms/step - loss: 1.6238 - accuracy: 0.4121 - val_loss: 1.4692 - val_accuracy: 0.4729\n",
      "Epoch 3/8\n",
      "1563/1563 [==============================] - 5s 3ms/step - loss: 1.3504 - accuracy: 0.5159 - val_loss: 1.3013 - val_accuracy: 0.5291\n",
      "Epoch 4/8\n",
      "1563/1563 [==============================] - 5s 3ms/step - loss: 1.1219 - accuracy: 0.6003 - val_loss: 1.1674 - val_accuracy: 0.5855\n",
      "Epoch 5/8\n",
      "1563/1563 [==============================] - 5s 3ms/step - loss: 0.8968 - accuracy: 0.6809 - val_loss: 1.2658 - val_accuracy: 0.5902\n",
      "Epoch 6/8\n",
      "1563/1563 [==============================] - 5s 3ms/step - loss: 0.6819 - accuracy: 0.7570 - val_loss: 1.3237 - val_accuracy: 0.5936\n",
      "Epoch 7/8\n",
      "1563/1563 [==============================] - 5s 3ms/step - loss: 0.5061 - accuracy: 0.8234 - val_loss: 1.5199 - val_accuracy: 0.5855\n",
      "Epoch 8/8\n",
      "1563/1563 [==============================] - 5s 3ms/step - loss: 0.3637 - accuracy: 0.8755 - val_loss: 1.7944 - val_accuracy: 0.5732\n"
     ]
    },
    {
     "data": {
      "image/png": "[encoded data removed]",
      "text/plain": [
       "<Figure size 432x288 with 1 Axes>"
      ]
     },
     "metadata": {
      "needs_background": "light"
     },
     "output_type": "display_data"
    },
    {
     "name": "stdout",
     "output_type": "stream",
     "text": [
      "1563/1563 - 2s - loss: 0.2396 - accuracy: 0.9187 - 2s/epoch - 1ms/step\n",
      "313/313 - 0s - loss: 1.7944 - accuracy: 0.5732 - 424ms/epoch - 1ms/step\n",
      "Training Accuracy:  0.9186800122261047\n",
      "Test Accuracy:  0.573199987411499\n"
     ]
    }
   ],
   "source": [
    "### CNN WITHOUT MAX POOLING ###\n",
    "model1 = models.Sequential()\n",
    "model1.add(layers.Conv2D(32, (3, 3), activation='relu', input_shape=(32, 32, 3)))\n",
    "model1.add(layers.Conv2D(64, (3, 3), activation='relu'))\n",
    "model1.add(layers.Conv2D(64, (3, 3), activation='relu'))\n",
    "model1.add(layers.Conv2D(32, (3, 3), activation='relu'))\n",
    "model1.add(layers.Flatten())\n",
    "model1.add(layers.Dense(256, activation='relu'))\n",
    "model1.add(layers.Dense(256, activation='relu'))\n",
    "model1.add(layers.Dense(10))\n",
    "sgd = optimizers.SGD(learning_rate=0.1)\n",
    "model1.compile(optimizer=sgd,\n",
    "              loss=tf.keras.losses.SparseCategoricalCrossentropy(from_logits=True),\n",
    "              metrics=['accuracy'])\n",
    "history = model1.fit(train_images, train_labels, epochs=8, \n",
    "                    validation_data=(test_images, test_labels))\n",
    "display_results(history, model1)"
   ]
  },
  {
   "cell_type": "code",
   "execution_count": 15,
   "id": "8f6c7111-3d52-4dbe-8e0e-8f3357b13b36",
   "metadata": {},
   "outputs": [
    {
     "name": "stdout",
     "output_type": "stream",
     "text": [
      "Epoch 1/20\n",
      "1563/1563 [==============================] - 4s 2ms/step - loss: 2.0338 - accuracy: 0.2576 - val_loss: 1.7583 - val_accuracy: 0.3684\n",
      "Epoch 2/20\n",
      "1563/1563 [==============================] - 3s 2ms/step - loss: 1.6473 - accuracy: 0.4063 - val_loss: 1.5225 - val_accuracy: 0.4573\n",
      "Epoch 3/20\n",
      "1563/1563 [==============================] - 3s 2ms/step - loss: 1.4765 - accuracy: 0.4677 - val_loss: 1.4162 - val_accuracy: 0.4923\n",
      "Epoch 4/20\n",
      "1563/1563 [==============================] - 3s 2ms/step - loss: 1.3692 - accuracy: 0.5075 - val_loss: 1.3556 - val_accuracy: 0.5080\n",
      "Epoch 5/20\n",
      "1563/1563 [==============================] - 3s 2ms/step - loss: 1.2811 - accuracy: 0.5409 - val_loss: 1.3146 - val_accuracy: 0.5307\n",
      "Epoch 6/20\n",
      "1563/1563 [==============================] - 3s 2ms/step - loss: 1.2058 - accuracy: 0.5717 - val_loss: 1.2531 - val_accuracy: 0.5446\n",
      "Epoch 7/20\n",
      "1563/1563 [==============================] - 3s 2ms/step - loss: 1.1343 - accuracy: 0.5989 - val_loss: 1.1845 - val_accuracy: 0.5804\n",
      "Epoch 8/20\n",
      "1563/1563 [==============================] - 3s 2ms/step - loss: 1.0701 - accuracy: 0.6230 - val_loss: 1.1173 - val_accuracy: 0.6065\n",
      "Epoch 9/20\n",
      "1563/1563 [==============================] - 3s 2ms/step - loss: 1.0077 - accuracy: 0.6476 - val_loss: 1.1133 - val_accuracy: 0.6091\n",
      "Epoch 10/20\n",
      "1563/1563 [==============================] - 3s 2ms/step - loss: 0.9527 - accuracy: 0.6642 - val_loss: 1.0807 - val_accuracy: 0.6203\n",
      "Epoch 11/20\n",
      "1563/1563 [==============================] - 3s 2ms/step - loss: 0.8963 - accuracy: 0.6864 - val_loss: 0.9993 - val_accuracy: 0.6526\n",
      "Epoch 12/20\n",
      "1563/1563 [==============================] - 3s 2ms/step - loss: 0.8436 - accuracy: 0.7045 - val_loss: 1.0042 - val_accuracy: 0.6511\n",
      "Epoch 13/20\n",
      "1563/1563 [==============================] - 3s 2ms/step - loss: 0.7920 - accuracy: 0.7217 - val_loss: 0.9912 - val_accuracy: 0.6593\n",
      "Epoch 14/20\n",
      "1563/1563 [==============================] - 3s 2ms/step - loss: 0.7418 - accuracy: 0.7405 - val_loss: 1.0515 - val_accuracy: 0.6474\n",
      "Epoch 15/20\n",
      "1563/1563 [==============================] - 3s 2ms/step - loss: 0.6977 - accuracy: 0.7538 - val_loss: 1.0502 - val_accuracy: 0.6464\n",
      "Epoch 16/20\n",
      "1563/1563 [==============================] - 3s 2ms/step - loss: 0.6486 - accuracy: 0.7750 - val_loss: 0.9842 - val_accuracy: 0.6700\n",
      "Epoch 17/20\n",
      "1563/1563 [==============================] - 3s 2ms/step - loss: 0.6083 - accuracy: 0.7887 - val_loss: 0.9788 - val_accuracy: 0.6787\n",
      "Epoch 18/20\n",
      "1563/1563 [==============================] - 3s 2ms/step - loss: 0.5656 - accuracy: 0.8028 - val_loss: 1.0216 - val_accuracy: 0.6704\n",
      "Epoch 19/20\n",
      "1563/1563 [==============================] - 3s 2ms/step - loss: 0.5224 - accuracy: 0.8198 - val_loss: 0.9786 - val_accuracy: 0.6853\n",
      "Epoch 20/20\n",
      "1563/1563 [==============================] - 3s 2ms/step - loss: 0.4850 - accuracy: 0.8309 - val_loss: 1.0001 - val_accuracy: 0.6819\n"
     ]
    },
    {
     "data": {
      "image/png": "[encoded data removed]",
      "text/plain": [
       "<Figure size 432x288 with 1 Axes>"
      ]
     },
     "metadata": {
      "needs_background": "light"
     },
     "output_type": "display_data"
    },
    {
     "name": "stdout",
     "output_type": "stream",
     "text": [
      "1563/1563 - 2s - loss: 0.4076 - accuracy: 0.8616 - 2s/epoch - 1ms/step\n",
      "313/313 - 0s - loss: 1.0001 - accuracy: 0.6819 - 362ms/epoch - 1ms/step\n",
      "Training Accuracy:  0.8615599870681763\n",
      "Test Accuracy:  0.6819000244140625\n"
     ]
    }
   ],
   "source": [
    "### CNN with 2 Max Pooling layers ###\n",
    "model1 = models.Sequential()\n",
    "model1.add(layers.Conv2D(32, (3, 3), activation='relu', input_shape=(32, 32, 3)))\n",
    "model1.add(layers.Conv2D(64, (3, 3), activation='relu'))\n",
    "model1.add(layers.MaxPooling2D((2, 2)))\n",
    "model1.add(layers.Conv2D(64, (3, 3), activation='relu'))\n",
    "model1.add(layers.Conv2D(32, (3, 3), activation='relu'))\n",
    "model1.add(layers.MaxPooling2D((2, 2)))\n",
    "#model1.add(layers.Conv2D(256, (3, 3), activation='relu'))\n",
    "model1.add(layers.Flatten())\n",
    "model1.add(layers.Dense(256, activation='relu'))\n",
    "model1.add(layers.Dense(256, activation='relu'))\n",
    "model1.add(layers.Dense(10))\n",
    "sgd = optimizers.SGD(learning_rate=0.01)\n",
    "model1.compile(optimizer=sgd,\n",
    "              loss=tf.keras.losses.SparseCategoricalCrossentropy(from_logits=True),\n",
    "              metrics=['accuracy'])\n",
    "history = model1.fit(train_images, train_labels, epochs=20, \n",
    "                    validation_data=(test_images, test_labels))\n",
    "display_results(history, model1)"
   ]
  },
  {
   "cell_type": "code",
   "execution_count": null,
   "id": "65eee2ef-7fa1-4898-9c39-ce8a894f54d3",
   "metadata": {},
   "outputs": [],
   "source": [
    "########################\n",
    "##### EXPERIMENT 6 #####\n",
    "########################"
   ]
  },
  {
   "cell_type": "code",
   "execution_count": 71,
   "id": "4a21b542-09d3-4e9f-bdfa-680e1cd4756a",
   "metadata": {},
   "outputs": [
    {
     "name": "stdout",
     "output_type": "stream",
     "text": [
      "Model: \"model_25\"\n",
      "_________________________________________________________________\n",
      " Layer (type)                Output Shape              Param #   \n",
      "=================================================================\n",
      " input_66 (InputLayer)       [(None, 32, 32, 3)]       0         \n",
      "                                                                 \n",
      " up_sampling2d_37 (UpSamplin  (None, 224, 224, 3)      0         \n",
      " g2D)                                                            \n",
      "                                                                 \n",
      " resnet50 (Functional)       (None, 7, 7, 2048)        23587712  \n",
      "                                                                 \n",
      " global_average_pooling2d_35  (None, 2048)             0         \n",
      "  (GlobalAveragePooling2D)                                       \n",
      "                                                                 \n",
      " flatten_50 (Flatten)        (None, 2048)              0         \n",
      "                                                                 \n",
      " dense_126 (Dense)           (None, 512)               1049088   \n",
      "                                                                 \n",
      " dense_127 (Dense)           (None, 256)               131328    \n",
      "                                                                 \n",
      " classification (Dense)      (None, 10)                2570      \n",
      "                                                                 \n",
      "=================================================================\n",
      "Total params: 24,770,698\n",
      "Trainable params: 1,182,986\n",
      "Non-trainable params: 23,587,712\n",
      "_________________________________________________________________\n"
     ]
    }
   ],
   "source": [
    "def fully_connected_layers(inputs):\n",
    "    x = tf.keras.layers.GlobalAveragePooling2D()(inputs)\n",
    "    x = tf.keras.layers.Flatten()(x)\n",
    "    x = tf.keras.layers.Dense(512, activation=\"relu\")(x)\n",
    "    x = tf.keras.layers.Dense(256, activation=\"relu\")(x)\n",
    "    x = tf.keras.layers.Dense(10, activation=\"softmax\", name=\"classification\")(x)\n",
    "    return x\n",
    "\n",
    "\n",
    "\n",
    "\n",
    "inputs = tf.keras.layers.Input(shape=(32,32,3))\n",
    "\n",
    "resize = tf.keras.layers.UpSampling2D(size=(7,7))(inputs)\n",
    "\n",
    "resnset = tf.keras.applications.resnet.ResNet50(input_shape=(224, 224, 3),\n",
    "                                               include_top=False,\n",
    "                                               weights='imagenet')(resize)\n",
    "\n",
    "fully_connected_layers_output = fully_connected_layers(resnset)\n",
    "model = tf.keras.Model(inputs=inputs, outputs = fully_connected_layers_output)\n",
    "\n",
    "sgd = optimizers.SGD(learning_rate=0.01)\n",
    "model.compile(optimizer=sgd, \n",
    "            loss='sparse_categorical_crossentropy',\n",
    "            metrics = ['accuracy'])\n",
    "\n",
    "\n",
    "\n",
    "model = define_compile_model()\n",
    "\n",
    "for layer in model.layers:\n",
    "  layer.trainable = False\n",
    "\n",
    "model.layers[-4].trainable = True\n",
    "model.layers[-3].trainable = True\n",
    "model.layers[-2].trainable = True\n",
    "model.layers[-1].trainable = True\n",
    "\n",
    "model.summary()"
   ]
  },
  {
   "cell_type": "code",
   "execution_count": 72,
   "id": "648e2d2b-77e1-41aa-998b-93e259d72c1f",
   "metadata": {},
   "outputs": [
    {
     "name": "stdout",
     "output_type": "stream",
     "text": [
      "Epoch 1/3\n",
      "391/391 [==============================] - 189s 476ms/step - loss: 0.6540 - accuracy: 0.7853 - val_loss: 3.3120 - val_accuracy: 0.1005\n",
      "Epoch 2/3\n",
      "391/391 [==============================] - 186s 475ms/step - loss: 0.1847 - accuracy: 0.9391 - val_loss: 1.7413 - val_accuracy: 0.4909\n",
      "Epoch 3/3\n",
      "391/391 [==============================] - 186s 475ms/step - loss: 0.0812 - accuracy: 0.9754 - val_loss: 0.2796 - val_accuracy: 0.9100\n"
     ]
    },
    {
     "data": {
      "image/png": "[encoded data removed]",
      "text/plain": [
       "<Figure size 432x288 with 1 Axes>"
      ]
     },
     "metadata": {
      "needs_background": "light"
     },
     "output_type": "display_data"
    },
    {
     "name": "stdout",
     "output_type": "stream",
     "text": [
      "1563/1563 - 52s - loss: 0.1061 - accuracy: 0.9633 - 52s/epoch - 33ms/step\n",
      "313/313 - 10s - loss: 0.2797 - accuracy: 0.9100 - 10s/epoch - 33ms/step\n",
      "Training Accuracy:  0.9633399844169617\n",
      "Test Accuracy:  0.9100000262260437\n"
     ]
    }
   ],
   "source": [
    "history = model.fit(train_images, train_labels, epochs=3, validation_data = (test_images, test_labels), batch_size=128)\n",
    "display_results(history, model)"
   ]
  },
  {
   "cell_type": "code",
   "execution_count": null,
   "id": "6de55981-cf9c-454c-841e-04e5ec8debbb",
   "metadata": {},
   "outputs": [],
   "source": [
    "\n",
    "########################\n",
    "##### EXPERIMENT 6 #####\n",
    "########################\n"
   ]
  },
  {
   "cell_type": "code",
   "execution_count": 74,
   "id": "e0f6d539-8031-4aa5-a054-7ba42f2d253e",
   "metadata": {},
   "outputs": [
    {
     "name": "stdout",
     "output_type": "stream",
     "text": [
      "Epoch 1/20\n",
      "1563/1563 [==============================] - 4s 3ms/step - loss: 2.2199 - accuracy: 0.1637 - val_loss: 2.1662 - val_accuracy: 0.1992\n",
      "Epoch 2/20\n",
      "1563/1563 [==============================] - 4s 2ms/step - loss: 2.0601 - accuracy: 0.2288 - val_loss: 2.3462 - val_accuracy: 0.1205\n",
      "Epoch 3/20\n",
      "1563/1563 [==============================] - 4s 2ms/step - loss: 1.9318 - accuracy: 0.2700 - val_loss: 2.1108 - val_accuracy: 0.2037\n",
      "Epoch 4/20\n",
      "1563/1563 [==============================] - 4s 2ms/step - loss: 1.8245 - accuracy: 0.3075 - val_loss: 2.1144 - val_accuracy: 0.2230\n",
      "Epoch 5/20\n",
      "1563/1563 [==============================] - 4s 2ms/step - loss: 1.7619 - accuracy: 0.3320 - val_loss: 1.9062 - val_accuracy: 0.3066\n",
      "Epoch 6/20\n",
      "1563/1563 [==============================] - 4s 2ms/step - loss: 1.7026 - accuracy: 0.3596 - val_loss: 1.7518 - val_accuracy: 0.3638\n",
      "Epoch 7/20\n",
      "1563/1563 [==============================] - 4s 2ms/step - loss: 1.6543 - accuracy: 0.3807 - val_loss: 1.7643 - val_accuracy: 0.3584\n",
      "Epoch 8/20\n",
      "1563/1563 [==============================] - 4s 2ms/step - loss: 1.6015 - accuracy: 0.4023 - val_loss: 1.6760 - val_accuracy: 0.3997\n",
      "Epoch 9/20\n",
      "1563/1563 [==============================] - 4s 2ms/step - loss: 1.5591 - accuracy: 0.4186 - val_loss: 1.7792 - val_accuracy: 0.3776\n",
      "Epoch 10/20\n",
      "1563/1563 [==============================] - 4s 2ms/step - loss: 1.5255 - accuracy: 0.4351 - val_loss: 1.5968 - val_accuracy: 0.4244\n",
      "Epoch 11/20\n",
      "1563/1563 [==============================] - 4s 2ms/step - loss: 1.4911 - accuracy: 0.4493 - val_loss: 1.4774 - val_accuracy: 0.4652\n",
      "Epoch 12/20\n",
      "1563/1563 [==============================] - 4s 2ms/step - loss: 1.4618 - accuracy: 0.4626 - val_loss: 1.6127 - val_accuracy: 0.4231\n",
      "Epoch 13/20\n",
      "1563/1563 [==============================] - 4s 2ms/step - loss: 1.4335 - accuracy: 0.4737 - val_loss: 1.4706 - val_accuracy: 0.4673\n",
      "Epoch 14/20\n",
      "1563/1563 [==============================] - 4s 2ms/step - loss: 1.4121 - accuracy: 0.4799 - val_loss: 1.5183 - val_accuracy: 0.4648\n",
      "Epoch 15/20\n",
      "1563/1563 [==============================] - 4s 2ms/step - loss: 1.3860 - accuracy: 0.4917 - val_loss: 1.5631 - val_accuracy: 0.4488\n",
      "Epoch 16/20\n",
      "1563/1563 [==============================] - 4s 2ms/step - loss: 1.3633 - accuracy: 0.5006 - val_loss: 1.4621 - val_accuracy: 0.4803\n",
      "Epoch 17/20\n",
      "1563/1563 [==============================] - 4s 2ms/step - loss: 1.3450 - accuracy: 0.5091 - val_loss: 1.6180 - val_accuracy: 0.4388\n",
      "Epoch 18/20\n",
      "1563/1563 [==============================] - 4s 2ms/step - loss: 1.3258 - accuracy: 0.5144 - val_loss: 1.5432 - val_accuracy: 0.4695\n",
      "Epoch 19/20\n",
      "1563/1563 [==============================] - 4s 2ms/step - loss: 1.3087 - accuracy: 0.5226 - val_loss: 1.3016 - val_accuracy: 0.5409\n",
      "Epoch 20/20\n",
      "1563/1563 [==============================] - 4s 2ms/step - loss: 1.2855 - accuracy: 0.5305 - val_loss: 1.4153 - val_accuracy: 0.4995\n"
     ]
    },
    {
     "data": {
      "image/png": "[encoded data removed]",
      "text/plain": [
       "<Figure size 432x288 with 1 Axes>"
      ]
     },
     "metadata": {
      "needs_background": "light"
     },
     "output_type": "display_data"
    },
    {
     "name": "stdout",
     "output_type": "stream",
     "text": [
      "1563/1563 - 2s - loss: 1.3942 - accuracy: 0.5077 - 2s/epoch - 1ms/step\n",
      "313/313 - 0s - loss: 1.4153 - accuracy: 0.4995 - 366ms/epoch - 1ms/step\n",
      "Training Accuracy:  0.5076599717140198\n",
      "Test Accuracy:  0.49950000643730164\n"
     ]
    }
   ],
   "source": [
    "### CNN with 0.5 DROPOUT IN FULLY CONNTECT LAYERS AND IN CONVOLUTIONNAL LAYERS ###\n",
    "model1 = models.Sequential()\n",
    "model1.add(layers.Conv2D(32, (3, 3), activation='relu', input_shape=(32, 32, 3)))\n",
    "\n",
    "model1.add(layers.Dropout(0.5))\n",
    "\n",
    "model1.add(layers.Conv2D(64, (3, 3), activation='relu'))\n",
    "model1.add(layers.MaxPooling2D((2, 2)))\n",
    "model1.add(layers.Conv2D(64, (3, 3), activation='relu'))\n",
    "\n",
    "model1.add(layers.Dropout(0.5))\n",
    "\n",
    "model1.add(layers.Conv2D(32, (3, 3), activation='relu'))\n",
    "model1.add(layers.MaxPooling2D((2, 2)))\n",
    "model1.add(layers.Flatten())\n",
    "\n",
    "model1.add(layers.Dropout(0.5))\n",
    "\n",
    "model1.add(layers.Dense(256, activation='relu'))\n",
    "\n",
    "model1.add(layers.Dropout(0.5))\n",
    "\n",
    "model1.add(layers.Dense(256, activation='relu'))\n",
    "model1.add(layers.Dense(10))\n",
    "sgd = optimizers.SGD(learning_rate=0.01)\n",
    "model1.compile(optimizer=sgd,\n",
    "              loss=tf.keras.losses.SparseCategoricalCrossentropy(from_logits=True),\n",
    "              metrics=['accuracy'])\n",
    "history = model1.fit(train_images, train_labels, epochs=20, \n",
    "                    validation_data=(test_images, test_labels))\n",
    "display_results(history, model1)"
   ]
  },
  {
   "cell_type": "code",
   "execution_count": 75,
   "id": "5a5fc7b6-e44a-4ff7-8ed3-bc78abd65751",
   "metadata": {},
   "outputs": [
    {
     "name": "stdout",
     "output_type": "stream",
     "text": [
      "Epoch 1/20\n",
      "1563/1563 [==============================] - 4s 2ms/step - loss: 1.2688 - accuracy: 0.5367 - val_loss: 1.2636 - val_accuracy: 0.5574\n",
      "Epoch 2/20\n",
      "1563/1563 [==============================] - 4s 2ms/step - loss: 1.2538 - accuracy: 0.5463 - val_loss: 1.3814 - val_accuracy: 0.5076\n",
      "Epoch 3/20\n",
      "1563/1563 [==============================] - 4s 2ms/step - loss: 1.2421 - accuracy: 0.5489 - val_loss: 1.3800 - val_accuracy: 0.5269\n",
      "Epoch 4/20\n",
      "1563/1563 [==============================] - 4s 2ms/step - loss: 1.2199 - accuracy: 0.5576 - val_loss: 1.3707 - val_accuracy: 0.5216\n",
      "Epoch 5/20\n",
      "1563/1563 [==============================] - 4s 2ms/step - loss: 1.2116 - accuracy: 0.5643 - val_loss: 1.2302 - val_accuracy: 0.5722\n",
      "Epoch 6/20\n",
      "1563/1563 [==============================] - 4s 2ms/step - loss: 1.1980 - accuracy: 0.5670 - val_loss: 1.3480 - val_accuracy: 0.5244\n",
      "Epoch 7/20\n",
      "1563/1563 [==============================] - 4s 2ms/step - loss: 1.1824 - accuracy: 0.5741 - val_loss: 1.3277 - val_accuracy: 0.5337\n",
      "Epoch 8/20\n",
      "1563/1563 [==============================] - 4s 2ms/step - loss: 1.1758 - accuracy: 0.5747 - val_loss: 1.2962 - val_accuracy: 0.5521\n",
      "Epoch 9/20\n",
      "1563/1563 [==============================] - 4s 2ms/step - loss: 1.1672 - accuracy: 0.5830 - val_loss: 1.4041 - val_accuracy: 0.5015\n",
      "Epoch 10/20\n",
      "1563/1563 [==============================] - 4s 2ms/step - loss: 1.1480 - accuracy: 0.5875 - val_loss: 1.3184 - val_accuracy: 0.5384\n",
      "Epoch 11/20\n",
      "1563/1563 [==============================] - 4s 2ms/step - loss: 1.1416 - accuracy: 0.5907 - val_loss: 1.1990 - val_accuracy: 0.5717\n",
      "Epoch 12/20\n",
      "1563/1563 [==============================] - 4s 2ms/step - loss: 1.1295 - accuracy: 0.5945 - val_loss: 1.2112 - val_accuracy: 0.5773\n",
      "Epoch 13/20\n",
      "1563/1563 [==============================] - 4s 2ms/step - loss: 1.1196 - accuracy: 0.5982 - val_loss: 1.2194 - val_accuracy: 0.5633\n",
      "Epoch 14/20\n",
      "1563/1563 [==============================] - 4s 2ms/step - loss: 1.1061 - accuracy: 0.6049 - val_loss: 1.2264 - val_accuracy: 0.5787\n",
      "Epoch 15/20\n",
      "1563/1563 [==============================] - 4s 2ms/step - loss: 1.1017 - accuracy: 0.6058 - val_loss: 1.1782 - val_accuracy: 0.5877\n",
      "Epoch 16/20\n",
      "1563/1563 [==============================] - 4s 2ms/step - loss: 1.0880 - accuracy: 0.6101 - val_loss: 1.1871 - val_accuracy: 0.5715\n",
      "Epoch 17/20\n",
      "1563/1563 [==============================] - 4s 2ms/step - loss: 1.0824 - accuracy: 0.6122 - val_loss: 1.1166 - val_accuracy: 0.6077\n",
      "Epoch 18/20\n",
      "1563/1563 [==============================] - 4s 2ms/step - loss: 1.0693 - accuracy: 0.6195 - val_loss: 1.1558 - val_accuracy: 0.5836\n",
      "Epoch 19/20\n",
      "1563/1563 [==============================] - 4s 2ms/step - loss: 1.0604 - accuracy: 0.6226 - val_loss: 1.1363 - val_accuracy: 0.6051\n",
      "Epoch 20/20\n",
      "1563/1563 [==============================] - 4s 2ms/step - loss: 1.0538 - accuracy: 0.6215 - val_loss: 1.2526 - val_accuracy: 0.5508\n"
     ]
    },
    {
     "data": {
      "image/png": "[encoded data removed]",
      "text/plain": [
       "<Figure size 432x288 with 1 Axes>"
      ]
     },
     "metadata": {
      "needs_background": "light"
     },
     "output_type": "display_data"
    },
    {
     "name": "stdout",
     "output_type": "stream",
     "text": [
      "1563/1563 - 2s - loss: 1.2093 - accuracy: 0.5680 - 2s/epoch - 1ms/step\n",
      "313/313 - 0s - loss: 1.2526 - accuracy: 0.5508 - 357ms/epoch - 1ms/step\n",
      "Training Accuracy:  0.5680199861526489\n",
      "Test Accuracy:  0.5508000254631042\n"
     ]
    }
   ],
   "source": [
    "history = model1.fit(train_images, train_labels, epochs=20, \n",
    "                    validation_data=(test_images, test_labels))\n",
    "display_results(history, model1)"
   ]
  },
  {
   "cell_type": "code",
   "execution_count": 78,
   "id": "ef52b9d3-594d-4a84-a9b3-5c2d93ab5608",
   "metadata": {},
   "outputs": [
    {
     "name": "stdout",
     "output_type": "stream",
     "text": [
      "Epoch 1/50\n",
      "1563/1563 [==============================] - 4s 2ms/step - loss: 2.0463 - accuracy: 0.2475 - val_loss: 1.9939 - val_accuracy: 0.2963\n",
      "Epoch 2/50\n",
      "1563/1563 [==============================] - 4s 2ms/step - loss: 1.7770 - accuracy: 0.3601 - val_loss: 1.8030 - val_accuracy: 0.3637\n",
      "Epoch 3/50\n",
      "1563/1563 [==============================] - 4s 2ms/step - loss: 1.6299 - accuracy: 0.4106 - val_loss: 1.7953 - val_accuracy: 0.3629\n",
      "Epoch 4/50\n",
      "1563/1563 [==============================] - 4s 2ms/step - loss: 1.5435 - accuracy: 0.4390 - val_loss: 1.5959 - val_accuracy: 0.4421\n",
      "Epoch 5/50\n",
      "1563/1563 [==============================] - 4s 2ms/step - loss: 1.4777 - accuracy: 0.4668 - val_loss: 1.5170 - val_accuracy: 0.4746\n",
      "Epoch 6/50\n",
      "1563/1563 [==============================] - 4s 2ms/step - loss: 1.4157 - accuracy: 0.4879 - val_loss: 1.3968 - val_accuracy: 0.4981\n",
      "Epoch 7/50\n",
      "1563/1563 [==============================] - 4s 2ms/step - loss: 1.3569 - accuracy: 0.5090 - val_loss: 1.3763 - val_accuracy: 0.5079\n",
      "Epoch 8/50\n",
      "1563/1563 [==============================] - 4s 2ms/step - loss: 1.3064 - accuracy: 0.5296 - val_loss: 1.4363 - val_accuracy: 0.4870\n",
      "Epoch 9/50\n",
      "1563/1563 [==============================] - 4s 2ms/step - loss: 1.2613 - accuracy: 0.5481 - val_loss: 1.2581 - val_accuracy: 0.5581\n",
      "Epoch 10/50\n",
      "1563/1563 [==============================] - 4s 2ms/step - loss: 1.2192 - accuracy: 0.5641 - val_loss: 1.2731 - val_accuracy: 0.5476\n",
      "Epoch 11/50\n",
      "1563/1563 [==============================] - 4s 2ms/step - loss: 1.1809 - accuracy: 0.5779 - val_loss: 1.2008 - val_accuracy: 0.5697\n",
      "Epoch 12/50\n",
      "1563/1563 [==============================] - 4s 2ms/step - loss: 1.1466 - accuracy: 0.5922 - val_loss: 1.1762 - val_accuracy: 0.5881\n",
      "Epoch 13/50\n",
      "1563/1563 [==============================] - 4s 2ms/step - loss: 1.1153 - accuracy: 0.6040 - val_loss: 1.1658 - val_accuracy: 0.5903\n",
      "Epoch 14/50\n",
      "1563/1563 [==============================] - 4s 2ms/step - loss: 1.0830 - accuracy: 0.6148 - val_loss: 1.1806 - val_accuracy: 0.5923\n",
      "Epoch 15/50\n",
      "1563/1563 [==============================] - 4s 2ms/step - loss: 1.0514 - accuracy: 0.6276 - val_loss: 1.1333 - val_accuracy: 0.6044\n",
      "Epoch 16/50\n",
      "1563/1563 [==============================] - 4s 2ms/step - loss: 1.0246 - accuracy: 0.6376 - val_loss: 1.1197 - val_accuracy: 0.6042\n",
      "Epoch 17/50\n",
      "1563/1563 [==============================] - 4s 2ms/step - loss: 0.9966 - accuracy: 0.6442 - val_loss: 1.0540 - val_accuracy: 0.6290\n",
      "Epoch 18/50\n",
      "1563/1563 [==============================] - 4s 2ms/step - loss: 0.9671 - accuracy: 0.6571 - val_loss: 1.1326 - val_accuracy: 0.5953\n",
      "Epoch 19/50\n",
      "1563/1563 [==============================] - 4s 2ms/step - loss: 0.9433 - accuracy: 0.6667 - val_loss: 1.2661 - val_accuracy: 0.5529\n",
      "Epoch 20/50\n",
      "1563/1563 [==============================] - 4s 2ms/step - loss: 0.9164 - accuracy: 0.6763 - val_loss: 1.1291 - val_accuracy: 0.6059\n",
      "Epoch 21/50\n",
      "1563/1563 [==============================] - 4s 2ms/step - loss: 0.8892 - accuracy: 0.6865 - val_loss: 1.2012 - val_accuracy: 0.5859\n",
      "Epoch 22/50\n",
      "1563/1563 [==============================] - 4s 2ms/step - loss: 0.8604 - accuracy: 0.6964 - val_loss: 1.0734 - val_accuracy: 0.6154\n",
      "Epoch 23/50\n",
      "1563/1563 [==============================] - 4s 2ms/step - loss: 0.8408 - accuracy: 0.7023 - val_loss: 1.0117 - val_accuracy: 0.6464\n",
      "Epoch 24/50\n",
      "1563/1563 [==============================] - 4s 2ms/step - loss: 0.8189 - accuracy: 0.7098 - val_loss: 0.9825 - val_accuracy: 0.6573\n",
      "Epoch 25/50\n",
      "1563/1563 [==============================] - 4s 2ms/step - loss: 0.8002 - accuracy: 0.7169 - val_loss: 1.0558 - val_accuracy: 0.6368\n",
      "Epoch 26/50\n",
      "1563/1563 [==============================] - 4s 2ms/step - loss: 0.7772 - accuracy: 0.7247 - val_loss: 1.0627 - val_accuracy: 0.6394\n",
      "Epoch 27/50\n",
      "1563/1563 [==============================] - 4s 2ms/step - loss: 0.7575 - accuracy: 0.7302 - val_loss: 1.1072 - val_accuracy: 0.6218\n",
      "Epoch 28/50\n",
      "1563/1563 [==============================] - 4s 2ms/step - loss: 0.7346 - accuracy: 0.7407 - val_loss: 0.9634 - val_accuracy: 0.6682\n",
      "Epoch 29/50\n",
      "1563/1563 [==============================] - 4s 2ms/step - loss: 0.7166 - accuracy: 0.7468 - val_loss: 1.0158 - val_accuracy: 0.6543\n",
      "Epoch 30/50\n",
      "1563/1563 [==============================] - 4s 2ms/step - loss: 0.6946 - accuracy: 0.7540 - val_loss: 1.0026 - val_accuracy: 0.6598\n",
      "Epoch 31/50\n",
      "1563/1563 [==============================] - 4s 2ms/step - loss: 0.6768 - accuracy: 0.7612 - val_loss: 1.0625 - val_accuracy: 0.6428\n",
      "Epoch 32/50\n",
      "1563/1563 [==============================] - 4s 2ms/step - loss: 0.6600 - accuracy: 0.7670 - val_loss: 0.9837 - val_accuracy: 0.6666\n",
      "Epoch 33/50\n",
      "1563/1563 [==============================] - 4s 2ms/step - loss: 0.6392 - accuracy: 0.7714 - val_loss: 0.9756 - val_accuracy: 0.6678\n",
      "Epoch 34/50\n",
      "1563/1563 [==============================] - 4s 2ms/step - loss: 0.6202 - accuracy: 0.7808 - val_loss: 0.9547 - val_accuracy: 0.6753\n",
      "Epoch 35/50\n",
      "1563/1563 [==============================] - 4s 2ms/step - loss: 0.6014 - accuracy: 0.7877 - val_loss: 0.9680 - val_accuracy: 0.6709\n",
      "Epoch 36/50\n",
      "1563/1563 [==============================] - 4s 2ms/step - loss: 0.5913 - accuracy: 0.7891 - val_loss: 0.9835 - val_accuracy: 0.6652\n",
      "Epoch 37/50\n",
      "1563/1563 [==============================] - 4s 2ms/step - loss: 0.5713 - accuracy: 0.7959 - val_loss: 1.0728 - val_accuracy: 0.6561\n",
      "Epoch 38/50\n",
      "1563/1563 [==============================] - 4s 2ms/step - loss: 0.5557 - accuracy: 0.8022 - val_loss: 0.9601 - val_accuracy: 0.6822\n",
      "Epoch 39/50\n",
      "1563/1563 [==============================] - 4s 2ms/step - loss: 0.5445 - accuracy: 0.8054 - val_loss: 0.9497 - val_accuracy: 0.6813\n",
      "Epoch 40/50\n",
      "1563/1563 [==============================] - 4s 2ms/step - loss: 0.5237 - accuracy: 0.8147 - val_loss: 0.9461 - val_accuracy: 0.6868\n",
      "Epoch 41/50\n",
      "1563/1563 [==============================] - 4s 2ms/step - loss: 0.5121 - accuracy: 0.8179 - val_loss: 0.9291 - val_accuracy: 0.6952\n",
      "Epoch 42/50\n",
      "1563/1563 [==============================] - 4s 2ms/step - loss: 0.4942 - accuracy: 0.8230 - val_loss: 0.9818 - val_accuracy: 0.6851\n",
      "Epoch 43/50\n",
      "1563/1563 [==============================] - 4s 2ms/step - loss: 0.4801 - accuracy: 0.8285 - val_loss: 1.0478 - val_accuracy: 0.6704\n",
      "Epoch 44/50\n",
      "1563/1563 [==============================] - 4s 2ms/step - loss: 0.4697 - accuracy: 0.8320 - val_loss: 0.9587 - val_accuracy: 0.6917\n",
      "Epoch 45/50\n",
      "1563/1563 [==============================] - 4s 2ms/step - loss: 0.4581 - accuracy: 0.8352 - val_loss: 1.0062 - val_accuracy: 0.6774\n",
      "Epoch 46/50\n",
      "1563/1563 [==============================] - 4s 2ms/step - loss: 0.4439 - accuracy: 0.8409 - val_loss: 1.0654 - val_accuracy: 0.6689\n",
      "Epoch 47/50\n",
      "1563/1563 [==============================] - 4s 2ms/step - loss: 0.4301 - accuracy: 0.8459 - val_loss: 1.0165 - val_accuracy: 0.6834\n",
      "Epoch 48/50\n",
      "1563/1563 [==============================] - 4s 2ms/step - loss: 0.4216 - accuracy: 0.8488 - val_loss: 0.9994 - val_accuracy: 0.6897\n",
      "Epoch 49/50\n",
      "1563/1563 [==============================] - 4s 2ms/step - loss: 0.4081 - accuracy: 0.8533 - val_loss: 1.0189 - val_accuracy: 0.6868\n",
      "Epoch 50/50\n",
      "1563/1563 [==============================] - 4s 2ms/step - loss: 0.3984 - accuracy: 0.8571 - val_loss: 1.0559 - val_accuracy: 0.6757\n"
     ]
    },
    {
     "data": {
      "image/png": "[encoded data removed]",
      "text/plain": [
       "<Figure size 432x288 with 1 Axes>"
      ]
     },
     "metadata": {
      "needs_background": "light"
     },
     "output_type": "display_data"
    },
    {
     "name": "stdout",
     "output_type": "stream",
     "text": [
      "1563/1563 - 2s - loss: 0.4305 - accuracy: 0.8494 - 2s/epoch - 1ms/step\n",
      "313/313 - 0s - loss: 1.0559 - accuracy: 0.6757 - 362ms/epoch - 1ms/step\n",
      "Training Accuracy:  0.8493599891662598\n",
      "Test Accuracy:  0.6757000088691711\n"
     ]
    }
   ],
   "source": [
    "### CNN with 0.5 DROPOUT IN ONLY CONVOLUTIONNAL LAYERS ###\n",
    "model1 = models.Sequential()\n",
    "model1.add(layers.Conv2D(32, (3, 3), activation='relu', input_shape=(32, 32, 3)))\n",
    "\n",
    "model1.add(layers.Dropout(0.5))\n",
    "\n",
    "model1.add(layers.Conv2D(64, (3, 3), activation='relu'))\n",
    "model1.add(layers.MaxPooling2D((2, 2)))\n",
    "model1.add(layers.Conv2D(64, (3, 3), activation='relu'))\n",
    "\n",
    "model1.add(layers.Dropout(0.5))\n",
    "\n",
    "model1.add(layers.Conv2D(32, (3, 3), activation='relu'))\n",
    "model1.add(layers.MaxPooling2D((2, 2)))\n",
    "model1.add(layers.Flatten())\n",
    "\n",
    "model1.add(layers.Dense(256, activation='relu'))\n",
    "\n",
    "model1.add(layers.Dense(256, activation='relu'))\n",
    "model1.add(layers.Dense(10))\n",
    "sgd = optimizers.SGD(learning_rate=0.01)\n",
    "model1.compile(optimizer=sgd,\n",
    "              loss=tf.keras.losses.SparseCategoricalCrossentropy(from_logits=True),\n",
    "              metrics=['accuracy'])\n",
    "history = model1.fit(train_images, train_labels, epochs=50, \n",
    "                    validation_data=(test_images, test_labels))\n",
    "display_results(history, model1)"
   ]
  },
  {
   "cell_type": "code",
   "execution_count": 76,
   "id": "4ff04e49-a8c2-4bcd-bd6f-b0dc5b177d71",
   "metadata": {},
   "outputs": [
    {
     "name": "stdout",
     "output_type": "stream",
     "text": [
      "Epoch 1/50\n",
      "1563/1563 [==============================] - 4s 2ms/step - loss: 2.2114 - accuracy: 0.1650 - val_loss: 2.2588 - val_accuracy: 0.1598\n",
      "Epoch 2/50\n",
      "1563/1563 [==============================] - 4s 2ms/step - loss: 2.0112 - accuracy: 0.2334 - val_loss: 1.9165 - val_accuracy: 0.3081\n",
      "Epoch 3/50\n",
      "1563/1563 [==============================] - 4s 2ms/step - loss: 1.8170 - accuracy: 0.3128 - val_loss: 1.6591 - val_accuracy: 0.3804\n",
      "Epoch 4/50\n",
      "1563/1563 [==============================] - 4s 2ms/step - loss: 1.6561 - accuracy: 0.3816 - val_loss: 1.4834 - val_accuracy: 0.4453\n",
      "Epoch 5/50\n",
      "1563/1563 [==============================] - 4s 2ms/step - loss: 1.5490 - accuracy: 0.4238 - val_loss: 1.4202 - val_accuracy: 0.4787\n",
      "Epoch 6/50\n",
      "1563/1563 [==============================] - 4s 2ms/step - loss: 1.4725 - accuracy: 0.4570 - val_loss: 1.3495 - val_accuracy: 0.5028\n",
      "Epoch 7/50\n",
      "1563/1563 [==============================] - 4s 2ms/step - loss: 1.4171 - accuracy: 0.4812 - val_loss: 1.2863 - val_accuracy: 0.5244\n",
      "Epoch 8/50\n",
      "1563/1563 [==============================] - 4s 2ms/step - loss: 1.3649 - accuracy: 0.5000 - val_loss: 1.2503 - val_accuracy: 0.5430\n",
      "Epoch 9/50\n",
      "1563/1563 [==============================] - 4s 2ms/step - loss: 1.3181 - accuracy: 0.5210 - val_loss: 1.1811 - val_accuracy: 0.5744\n",
      "Epoch 10/50\n",
      "1563/1563 [==============================] - 4s 2ms/step - loss: 1.2748 - accuracy: 0.5377 - val_loss: 1.1816 - val_accuracy: 0.5778\n",
      "Epoch 11/50\n",
      "1563/1563 [==============================] - 4s 2ms/step - loss: 1.2297 - accuracy: 0.5554 - val_loss: 1.1352 - val_accuracy: 0.5948\n",
      "Epoch 12/50\n",
      "1563/1563 [==============================] - 4s 2ms/step - loss: 1.1909 - accuracy: 0.5703 - val_loss: 1.1792 - val_accuracy: 0.5711\n",
      "Epoch 13/50\n",
      "1563/1563 [==============================] - 4s 2ms/step - loss: 1.1533 - accuracy: 0.5855 - val_loss: 1.0826 - val_accuracy: 0.6072\n",
      "Epoch 14/50\n",
      "1563/1563 [==============================] - 4s 2ms/step - loss: 1.1205 - accuracy: 0.5981 - val_loss: 1.0008 - val_accuracy: 0.6379\n",
      "Epoch 15/50\n",
      "1563/1563 [==============================] - 4s 2ms/step - loss: 1.0867 - accuracy: 0.6096 - val_loss: 0.9790 - val_accuracy: 0.6484\n",
      "Epoch 16/50\n",
      "1563/1563 [==============================] - 4s 2ms/step - loss: 1.0608 - accuracy: 0.6180 - val_loss: 0.9726 - val_accuracy: 0.6470\n",
      "Epoch 17/50\n",
      "1563/1563 [==============================] - 4s 2ms/step - loss: 1.0334 - accuracy: 0.6320 - val_loss: 1.0594 - val_accuracy: 0.6186\n",
      "Epoch 18/50\n",
      "1563/1563 [==============================] - 4s 2ms/step - loss: 1.0064 - accuracy: 0.6391 - val_loss: 0.9156 - val_accuracy: 0.6735\n",
      "Epoch 19/50\n",
      "1563/1563 [==============================] - 4s 2ms/step - loss: 0.9859 - accuracy: 0.6478 - val_loss: 0.8812 - val_accuracy: 0.6774\n",
      "Epoch 20/50\n",
      "1563/1563 [==============================] - 4s 2ms/step - loss: 0.9674 - accuracy: 0.6534 - val_loss: 0.8904 - val_accuracy: 0.6789\n",
      "Epoch 21/50\n",
      "1563/1563 [==============================] - 4s 2ms/step - loss: 0.9426 - accuracy: 0.6678 - val_loss: 0.8539 - val_accuracy: 0.6949\n",
      "Epoch 22/50\n",
      "1563/1563 [==============================] - 4s 2ms/step - loss: 0.9266 - accuracy: 0.6714 - val_loss: 0.9239 - val_accuracy: 0.6705\n",
      "Epoch 23/50\n",
      "1563/1563 [==============================] - 4s 2ms/step - loss: 0.9076 - accuracy: 0.6771 - val_loss: 0.8159 - val_accuracy: 0.7072\n",
      "Epoch 24/50\n",
      "1563/1563 [==============================] - 4s 2ms/step - loss: 0.8918 - accuracy: 0.6841 - val_loss: 0.9077 - val_accuracy: 0.6753\n",
      "Epoch 25/50\n",
      "1563/1563 [==============================] - 4s 2ms/step - loss: 0.8781 - accuracy: 0.6896 - val_loss: 0.8502 - val_accuracy: 0.7013\n",
      "Epoch 26/50\n",
      "1563/1563 [==============================] - 4s 2ms/step - loss: 0.8686 - accuracy: 0.6909 - val_loss: 0.8705 - val_accuracy: 0.6867\n",
      "Epoch 27/50\n",
      "1563/1563 [==============================] - 4s 2ms/step - loss: 0.8464 - accuracy: 0.6996 - val_loss: 0.8389 - val_accuracy: 0.6985\n",
      "Epoch 28/50\n",
      "1563/1563 [==============================] - 4s 2ms/step - loss: 0.8316 - accuracy: 0.7049 - val_loss: 0.7470 - val_accuracy: 0.7359\n",
      "Epoch 29/50\n",
      "1563/1563 [==============================] - 4s 2ms/step - loss: 0.8241 - accuracy: 0.7095 - val_loss: 0.7882 - val_accuracy: 0.7255\n",
      "Epoch 30/50\n",
      "1563/1563 [==============================] - 4s 2ms/step - loss: 0.8108 - accuracy: 0.7134 - val_loss: 0.7400 - val_accuracy: 0.7443\n",
      "Epoch 31/50\n",
      "1563/1563 [==============================] - 4s 2ms/step - loss: 0.7998 - accuracy: 0.7180 - val_loss: 0.7493 - val_accuracy: 0.7371\n",
      "Epoch 32/50\n",
      "1563/1563 [==============================] - 4s 2ms/step - loss: 0.7837 - accuracy: 0.7229 - val_loss: 0.7241 - val_accuracy: 0.7467\n",
      "Epoch 33/50\n",
      "1563/1563 [==============================] - 4s 2ms/step - loss: 0.7782 - accuracy: 0.7257 - val_loss: 0.7984 - val_accuracy: 0.7222\n",
      "Epoch 34/50\n",
      "1563/1563 [==============================] - 4s 2ms/step - loss: 0.7677 - accuracy: 0.7295 - val_loss: 0.7638 - val_accuracy: 0.7354\n",
      "Epoch 35/50\n",
      "1563/1563 [==============================] - 4s 2ms/step - loss: 0.7577 - accuracy: 0.7323 - val_loss: 0.7680 - val_accuracy: 0.7332\n",
      "Epoch 36/50\n",
      "1563/1563 [==============================] - 4s 2ms/step - loss: 0.7498 - accuracy: 0.7354 - val_loss: 0.7769 - val_accuracy: 0.7265\n",
      "Epoch 37/50\n",
      "1563/1563 [==============================] - 4s 2ms/step - loss: 0.7441 - accuracy: 0.7379 - val_loss: 0.7242 - val_accuracy: 0.7459\n",
      "Epoch 38/50\n",
      "1563/1563 [==============================] - 4s 2ms/step - loss: 0.7313 - accuracy: 0.7436 - val_loss: 0.6925 - val_accuracy: 0.7562\n",
      "Epoch 39/50\n",
      "1563/1563 [==============================] - 4s 2ms/step - loss: 0.7247 - accuracy: 0.7455 - val_loss: 0.7129 - val_accuracy: 0.7523\n",
      "Epoch 40/50\n",
      "1563/1563 [==============================] - 4s 2ms/step - loss: 0.7155 - accuracy: 0.7473 - val_loss: 0.8383 - val_accuracy: 0.7194\n",
      "Epoch 41/50\n",
      "1563/1563 [==============================] - 4s 2ms/step - loss: 0.7044 - accuracy: 0.7506 - val_loss: 0.6723 - val_accuracy: 0.7644\n",
      "Epoch 42/50\n",
      "1563/1563 [==============================] - 4s 2ms/step - loss: 0.6978 - accuracy: 0.7523 - val_loss: 0.7104 - val_accuracy: 0.7486\n",
      "Epoch 43/50\n",
      "1563/1563 [==============================] - 4s 2ms/step - loss: 0.6918 - accuracy: 0.7541 - val_loss: 0.6757 - val_accuracy: 0.7650\n",
      "Epoch 44/50\n",
      "1563/1563 [==============================] - 4s 2ms/step - loss: 0.6841 - accuracy: 0.7578 - val_loss: 0.7455 - val_accuracy: 0.7377\n",
      "Epoch 45/50\n",
      "1563/1563 [==============================] - 4s 2ms/step - loss: 0.6805 - accuracy: 0.7601 - val_loss: 0.6591 - val_accuracy: 0.7714\n",
      "Epoch 46/50\n",
      "1563/1563 [==============================] - 4s 2ms/step - loss: 0.6740 - accuracy: 0.7613 - val_loss: 0.6851 - val_accuracy: 0.7621\n",
      "Epoch 47/50\n",
      "1563/1563 [==============================] - 4s 2ms/step - loss: 0.6691 - accuracy: 0.7646 - val_loss: 0.6752 - val_accuracy: 0.7654\n",
      "Epoch 48/50\n",
      "1563/1563 [==============================] - 4s 2ms/step - loss: 0.6611 - accuracy: 0.7686 - val_loss: 0.6750 - val_accuracy: 0.7704\n",
      "Epoch 49/50\n",
      "1563/1563 [==============================] - 4s 2ms/step - loss: 0.6507 - accuracy: 0.7720 - val_loss: 0.6872 - val_accuracy: 0.7642\n",
      "Epoch 50/50\n",
      "1563/1563 [==============================] - 4s 2ms/step - loss: 0.6476 - accuracy: 0.7728 - val_loss: 0.6906 - val_accuracy: 0.7597\n"
     ]
    },
    {
     "data": {
      "image/png": "[encoded data removed]",
      "text/plain": [
       "<Figure size 432x288 with 1 Axes>"
      ]
     },
     "metadata": {
      "needs_background": "light"
     },
     "output_type": "display_data"
    },
    {
     "name": "stdout",
     "output_type": "stream",
     "text": [
      "1563/1563 - 2s - loss: 0.5121 - accuracy: 0.8213 - 2s/epoch - 1ms/step\n",
      "313/313 - 0s - loss: 0.6906 - accuracy: 0.7597 - 362ms/epoch - 1ms/step\n",
      "Training Accuracy:  0.8212599754333496\n",
      "Test Accuracy:  0.7597000002861023\n"
     ]
    }
   ],
   "source": [
    "### CNN with 0.5 DROPOUT ONLY IN FULLY CONNTECT LAYERS ###\n",
    "model1 = models.Sequential()\n",
    "model1.add(layers.Conv2D(32, (3, 3), activation='relu', input_shape=(32, 32, 3)))\n",
    "\n",
    "model1.add(layers.Conv2D(64, (3, 3), activation='relu'))\n",
    "model1.add(layers.MaxPooling2D((2, 2)))\n",
    "model1.add(layers.Conv2D(64, (3, 3), activation='relu'))\n",
    "\n",
    "model1.add(layers.Conv2D(32, (3, 3), activation='relu'))\n",
    "model1.add(layers.MaxPooling2D((2, 2)))\n",
    "model1.add(layers.Flatten())\n",
    "\n",
    "model1.add(layers.Dropout(0.5))\n",
    "\n",
    "model1.add(layers.Dense(256, activation='relu'))\n",
    "\n",
    "model1.add(layers.Dropout(0.5))\n",
    "\n",
    "model1.add(layers.Dense(256, activation='relu'))\n",
    "model1.add(layers.Dense(10))\n",
    "sgd = optimizers.SGD(learning_rate=0.01)\n",
    "model1.compile(optimizer=sgd,\n",
    "              loss=tf.keras.losses.SparseCategoricalCrossentropy(from_logits=True),\n",
    "              metrics=['accuracy'])\n",
    "history = model1.fit(train_images, train_labels, epochs=50, \n",
    "                    validation_data=(test_images, test_labels))\n",
    "display_results(history, model1)"
   ]
  },
  {
   "cell_type": "code",
   "execution_count": 77,
   "id": "b5b11d6e-e4ec-47b9-a4b6-bf66ba887123",
   "metadata": {},
   "outputs": [
    {
     "name": "stdout",
     "output_type": "stream",
     "text": [
      "Epoch 1/60\n",
      "1563/1563 [==============================] - 4s 2ms/step - loss: 2.1292 - accuracy: 0.2052 - val_loss: 1.8193 - val_accuracy: 0.3462\n",
      "Epoch 2/60\n",
      "1563/1563 [==============================] - 4s 2ms/step - loss: 1.7610 - accuracy: 0.3548 - val_loss: 1.5711 - val_accuracy: 0.4131\n",
      "Epoch 3/60\n",
      "1563/1563 [==============================] - 4s 2ms/step - loss: 1.5707 - accuracy: 0.4242 - val_loss: 1.4447 - val_accuracy: 0.4670\n",
      "Epoch 4/60\n",
      "1563/1563 [==============================] - 4s 2ms/step - loss: 1.4583 - accuracy: 0.4634 - val_loss: 1.3285 - val_accuracy: 0.5139\n",
      "Epoch 5/60\n",
      "1563/1563 [==============================] - 4s 2ms/step - loss: 1.3701 - accuracy: 0.5018 - val_loss: 1.3202 - val_accuracy: 0.5230\n",
      "Epoch 6/60\n",
      "1563/1563 [==============================] - 4s 2ms/step - loss: 1.2937 - accuracy: 0.5319 - val_loss: 1.1822 - val_accuracy: 0.5730\n",
      "Epoch 7/60\n",
      "1563/1563 [==============================] - 4s 2ms/step - loss: 1.2249 - accuracy: 0.5619 - val_loss: 1.1396 - val_accuracy: 0.5959\n",
      "Epoch 8/60\n",
      "1563/1563 [==============================] - 4s 2ms/step - loss: 1.1628 - accuracy: 0.5845 - val_loss: 1.1141 - val_accuracy: 0.6039\n",
      "Epoch 9/60\n",
      "1563/1563 [==============================] - 4s 2ms/step - loss: 1.1033 - accuracy: 0.6069 - val_loss: 1.0947 - val_accuracy: 0.6174\n",
      "Epoch 10/60\n",
      "1563/1563 [==============================] - 4s 2ms/step - loss: 1.0509 - accuracy: 0.6276 - val_loss: 1.0410 - val_accuracy: 0.6386\n",
      "Epoch 11/60\n",
      "1563/1563 [==============================] - 4s 2ms/step - loss: 1.0035 - accuracy: 0.6464 - val_loss: 1.0190 - val_accuracy: 0.6474\n",
      "Epoch 12/60\n",
      "1563/1563 [==============================] - 4s 2ms/step - loss: 0.9604 - accuracy: 0.6626 - val_loss: 0.9555 - val_accuracy: 0.6610\n",
      "Epoch 13/60\n",
      "1563/1563 [==============================] - 4s 2ms/step - loss: 0.9164 - accuracy: 0.6744 - val_loss: 0.9226 - val_accuracy: 0.6798\n",
      "Epoch 14/60\n",
      "1563/1563 [==============================] - 4s 2ms/step - loss: 0.8805 - accuracy: 0.6888 - val_loss: 0.8719 - val_accuracy: 0.6990\n",
      "Epoch 15/60\n",
      "1563/1563 [==============================] - 4s 2ms/step - loss: 0.8497 - accuracy: 0.6999 - val_loss: 0.8637 - val_accuracy: 0.6937\n",
      "Epoch 16/60\n",
      "1563/1563 [==============================] - 4s 2ms/step - loss: 0.8202 - accuracy: 0.7123 - val_loss: 0.8282 - val_accuracy: 0.7107\n",
      "Epoch 17/60\n",
      "1563/1563 [==============================] - 4s 2ms/step - loss: 0.7936 - accuracy: 0.7201 - val_loss: 0.7959 - val_accuracy: 0.7248\n",
      "Epoch 18/60\n",
      "1563/1563 [==============================] - 4s 2ms/step - loss: 0.7715 - accuracy: 0.7287 - val_loss: 0.8203 - val_accuracy: 0.7165\n",
      "Epoch 19/60\n",
      "1563/1563 [==============================] - 4s 2ms/step - loss: 0.7500 - accuracy: 0.7348 - val_loss: 0.7774 - val_accuracy: 0.7315\n",
      "Epoch 20/60\n",
      "1563/1563 [==============================] - 4s 2ms/step - loss: 0.7283 - accuracy: 0.7442 - val_loss: 0.7471 - val_accuracy: 0.7376\n",
      "Epoch 21/60\n",
      "1563/1563 [==============================] - 4s 2ms/step - loss: 0.7084 - accuracy: 0.7487 - val_loss: 0.8302 - val_accuracy: 0.7101\n",
      "Epoch 22/60\n",
      "1563/1563 [==============================] - 4s 2ms/step - loss: 0.6891 - accuracy: 0.7565 - val_loss: 0.7522 - val_accuracy: 0.7355\n",
      "Epoch 23/60\n",
      "1563/1563 [==============================] - 4s 2ms/step - loss: 0.6714 - accuracy: 0.7622 - val_loss: 0.7223 - val_accuracy: 0.7483\n",
      "Epoch 24/60\n",
      "1563/1563 [==============================] - 4s 2ms/step - loss: 0.6551 - accuracy: 0.7701 - val_loss: 0.7267 - val_accuracy: 0.7475\n",
      "Epoch 25/60\n",
      "1563/1563 [==============================] - 4s 2ms/step - loss: 0.6374 - accuracy: 0.7741 - val_loss: 0.7161 - val_accuracy: 0.7506\n",
      "Epoch 26/60\n",
      "1563/1563 [==============================] - 4s 2ms/step - loss: 0.6212 - accuracy: 0.7799 - val_loss: 0.7106 - val_accuracy: 0.7547\n",
      "Epoch 27/60\n",
      "1563/1563 [==============================] - 4s 2ms/step - loss: 0.6095 - accuracy: 0.7860 - val_loss: 0.7222 - val_accuracy: 0.7458\n",
      "Epoch 28/60\n",
      "1563/1563 [==============================] - 4s 2ms/step - loss: 0.5946 - accuracy: 0.7892 - val_loss: 0.6913 - val_accuracy: 0.7570\n",
      "Epoch 29/60\n",
      "1563/1563 [==============================] - 4s 2ms/step - loss: 0.5768 - accuracy: 0.7940 - val_loss: 0.6906 - val_accuracy: 0.7603\n",
      "Epoch 30/60\n",
      "1563/1563 [==============================] - 4s 2ms/step - loss: 0.5662 - accuracy: 0.7980 - val_loss: 0.6971 - val_accuracy: 0.7573\n",
      "Epoch 31/60\n",
      "1563/1563 [==============================] - 4s 2ms/step - loss: 0.5565 - accuracy: 0.8028 - val_loss: 0.6699 - val_accuracy: 0.7676\n",
      "Epoch 32/60\n",
      "1563/1563 [==============================] - 4s 2ms/step - loss: 0.5424 - accuracy: 0.8063 - val_loss: 0.6879 - val_accuracy: 0.7625\n",
      "Epoch 33/60\n",
      "1563/1563 [==============================] - 4s 2ms/step - loss: 0.5310 - accuracy: 0.8101 - val_loss: 0.7117 - val_accuracy: 0.7552\n",
      "Epoch 34/60\n",
      "1563/1563 [==============================] - 4s 2ms/step - loss: 0.5178 - accuracy: 0.8174 - val_loss: 0.6936 - val_accuracy: 0.7657\n",
      "Epoch 35/60\n",
      "1563/1563 [==============================] - 4s 2ms/step - loss: 0.5074 - accuracy: 0.8190 - val_loss: 0.6706 - val_accuracy: 0.7691\n",
      "Epoch 36/60\n",
      "1563/1563 [==============================] - 4s 2ms/step - loss: 0.4956 - accuracy: 0.8252 - val_loss: 0.6621 - val_accuracy: 0.7759\n",
      "Epoch 37/60\n",
      "1563/1563 [==============================] - 4s 2ms/step - loss: 0.4811 - accuracy: 0.8289 - val_loss: 0.7071 - val_accuracy: 0.7589\n",
      "Epoch 38/60\n",
      "1563/1563 [==============================] - 4s 2ms/step - loss: 0.4748 - accuracy: 0.8298 - val_loss: 0.6679 - val_accuracy: 0.7748\n",
      "Epoch 39/60\n",
      "1563/1563 [==============================] - 4s 2ms/step - loss: 0.4655 - accuracy: 0.8329 - val_loss: 0.6959 - val_accuracy: 0.7651\n",
      "Epoch 40/60\n",
      "1563/1563 [==============================] - 4s 2ms/step - loss: 0.4538 - accuracy: 0.8374 - val_loss: 0.6738 - val_accuracy: 0.7710\n",
      "Epoch 41/60\n",
      "1563/1563 [==============================] - 4s 2ms/step - loss: 0.4457 - accuracy: 0.8390 - val_loss: 0.6834 - val_accuracy: 0.7694\n",
      "Epoch 42/60\n",
      "1563/1563 [==============================] - 4s 2ms/step - loss: 0.4358 - accuracy: 0.8440 - val_loss: 0.6580 - val_accuracy: 0.7779\n",
      "Epoch 43/60\n",
      "1563/1563 [==============================] - 4s 2ms/step - loss: 0.4256 - accuracy: 0.8477 - val_loss: 0.7112 - val_accuracy: 0.7694\n",
      "Epoch 44/60\n",
      "1563/1563 [==============================] - 4s 2ms/step - loss: 0.4168 - accuracy: 0.8524 - val_loss: 0.7185 - val_accuracy: 0.7601\n",
      "Epoch 45/60\n",
      "1563/1563 [==============================] - 4s 2ms/step - loss: 0.4042 - accuracy: 0.8523 - val_loss: 0.7122 - val_accuracy: 0.7640\n",
      "Epoch 46/60\n",
      "1563/1563 [==============================] - 4s 2ms/step - loss: 0.3977 - accuracy: 0.8548 - val_loss: 0.6781 - val_accuracy: 0.7776\n",
      "Epoch 47/60\n",
      "1563/1563 [==============================] - 4s 2ms/step - loss: 0.3883 - accuracy: 0.8612 - val_loss: 0.6821 - val_accuracy: 0.7738\n",
      "Epoch 48/60\n",
      "1563/1563 [==============================] - 4s 2ms/step - loss: 0.3819 - accuracy: 0.8610 - val_loss: 0.7881 - val_accuracy: 0.7543\n",
      "Epoch 49/60\n",
      "1563/1563 [==============================] - 4s 2ms/step - loss: 0.3724 - accuracy: 0.8657 - val_loss: 0.6988 - val_accuracy: 0.7753\n",
      "Epoch 50/60\n",
      "1563/1563 [==============================] - 4s 2ms/step - loss: 0.3677 - accuracy: 0.8672 - val_loss: 0.6753 - val_accuracy: 0.7829\n",
      "Epoch 51/60\n",
      "1563/1563 [==============================] - 4s 2ms/step - loss: 0.3618 - accuracy: 0.8700 - val_loss: 0.6997 - val_accuracy: 0.7729\n",
      "Epoch 52/60\n",
      "1563/1563 [==============================] - 4s 2ms/step - loss: 0.3533 - accuracy: 0.8736 - val_loss: 0.6937 - val_accuracy: 0.7775\n",
      "Epoch 53/60\n",
      "1563/1563 [==============================] - 4s 2ms/step - loss: 0.3398 - accuracy: 0.8780 - val_loss: 0.7389 - val_accuracy: 0.7689\n",
      "Epoch 54/60\n",
      "1563/1563 [==============================] - 4s 2ms/step - loss: 0.3383 - accuracy: 0.8782 - val_loss: 0.6886 - val_accuracy: 0.7808\n",
      "Epoch 55/60\n",
      "1563/1563 [==============================] - 4s 2ms/step - loss: 0.3339 - accuracy: 0.8792 - val_loss: 0.7451 - val_accuracy: 0.7651\n",
      "Epoch 56/60\n",
      "1563/1563 [==============================] - 4s 2ms/step - loss: 0.3238 - accuracy: 0.8836 - val_loss: 0.7235 - val_accuracy: 0.7786\n",
      "Epoch 57/60\n",
      "1563/1563 [==============================] - 4s 2ms/step - loss: 0.3186 - accuracy: 0.8863 - val_loss: 0.7262 - val_accuracy: 0.7726\n",
      "Epoch 58/60\n",
      "1563/1563 [==============================] - 4s 2ms/step - loss: 0.3137 - accuracy: 0.8864 - val_loss: 0.7460 - val_accuracy: 0.7667\n",
      "Epoch 59/60\n",
      "1563/1563 [==============================] - 4s 2ms/step - loss: 0.3083 - accuracy: 0.8887 - val_loss: 0.7195 - val_accuracy: 0.7739\n",
      "Epoch 60/60\n",
      "1563/1563 [==============================] - 4s 2ms/step - loss: 0.2947 - accuracy: 0.8921 - val_loss: 0.7118 - val_accuracy: 0.7782\n"
     ]
    },
    {
     "data": {
      "image/png": "[encoded data removed]",
      "text/plain": [
       "<Figure size 432x288 with 1 Axes>"
      ]
     },
     "metadata": {
      "needs_background": "light"
     },
     "output_type": "display_data"
    },
    {
     "name": "stdout",
     "output_type": "stream",
     "text": [
      "1563/1563 - 2s - loss: 0.1263 - accuracy: 0.9705 - 2s/epoch - 1ms/step\n",
      "313/313 - 0s - loss: 0.7118 - accuracy: 0.7782 - 361ms/epoch - 1ms/step\n",
      "Training Accuracy:  0.9704800248146057\n",
      "Test Accuracy:  0.7781999707221985\n"
     ]
    }
   ],
   "source": [
    "### CNN with 0.2 DROPOUT ONLY IN FULLY CONNTECT LAYERS ###\n",
    "model1 = models.Sequential()\n",
    "model1.add(layers.Conv2D(32, (3, 3), activation='relu', input_shape=(32, 32, 3)))\n",
    "\n",
    "model1.add(layers.Conv2D(64, (3, 3), activation='relu'))\n",
    "model1.add(layers.MaxPooling2D((2, 2)))\n",
    "model1.add(layers.Conv2D(64, (3, 3), activation='relu'))\n",
    "\n",
    "model1.add(layers.Conv2D(32, (3, 3), activation='relu'))\n",
    "model1.add(layers.MaxPooling2D((2, 2)))\n",
    "model1.add(layers.Flatten())\n",
    "\n",
    "model1.add(layers.Dropout(0.2))\n",
    "\n",
    "model1.add(layers.Dense(256, activation='relu'))\n",
    "\n",
    "model1.add(layers.Dropout(0.2))\n",
    "\n",
    "model1.add(layers.Dense(256, activation='relu'))\n",
    "model1.add(layers.Dense(10))\n",
    "sgd = optimizers.SGD(learning_rate=0.01)\n",
    "model1.compile(optimizer=sgd,\n",
    "              loss=tf.keras.losses.SparseCategoricalCrossentropy(from_logits=True),\n",
    "              metrics=['accuracy'])\n",
    "history = model1.fit(train_images, train_labels, epochs=60, \n",
    "                    validation_data=(test_images, test_labels))\n",
    "display_results(history, model1)"
   ]
  },
  {
   "cell_type": "code",
   "execution_count": null,
   "id": "60092520-6866-4a4c-a690-5ab482e9d863",
   "metadata": {},
   "outputs": [],
   "source": []
  }
 ],
 "metadata": {
  "kernelspec": {
   "display_name": "Python 3",
   "language": "python",
   "name": "python3"
  },
  "language_info": {
   "codemirror_mode": {
    "name": "ipython",
    "version": 3
   },
   "file_extension": ".py",
   "mimetype": "text/x-python",
   "name": "python",
   "nbconvert_exporter": "python",
   "pygments_lexer": "ipython3",
   "version": "3.8.10"
  }
 },
 "nbformat": 4,
 "nbformat_minor": 5
}
