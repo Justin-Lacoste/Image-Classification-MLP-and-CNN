{
  "nbformat": 4,
  "nbformat_minor": 0,
  "metadata": {
    "colab": {
      "provenance": [],
      "toc_visible": true
    },
    "kernelspec": {
      "name": "python3",
      "display_name": "Python 3"
    },
    "language_info": {
      "name": "python"
    }
  },
  "cells": [
    {
      "cell_type": "code",
      "source": [
        "### IMPORTS ###\n",
        "from keras.datasets import cifar10\n",
        "import numpy as np\n",
        "import matplotlib.pyplot as plt\n",
        "from keras.utils import to_categorical\n",
        "import matplotlib.pyplot as plt\n",
        "import random"
      ],
      "metadata": {
        "id": "HxicNYGmgP4C"
      },
      "execution_count": 2,
      "outputs": []
    },
    {
      "cell_type": "markdown",
      "source": [
        "## Data Processing"
      ],
      "metadata": {
        "id": "eF8NxZpHpz3I"
      }
    },
    {
      "cell_type": "code",
      "execution_count": 3,
      "metadata": {
        "colab": {
          "base_uri": "https://localhost:8080/"
        },
        "id": "pPK5Hxw-fyyv",
        "outputId": "54b332c0-caaa-499b-f2f9-9aae59f66785"
      },
      "outputs": [
        {
          "output_type": "stream",
          "name": "stdout",
          "text": [
            "Downloading data from https://www.cs.toronto.edu/~kriz/cifar-10-python.tar.gz\n",
            "170498071/170498071 [==============================] - 11s 0us/step\n",
            "Train: X=(50000, 3073), y=(50000, 10)\n",
            "Test: X=(10000, 3073), y=(10000, 10)\n"
          ]
        }
      ],
      "source": [
        "### LOAD AND PREPARE DATA ###\n",
        "\n",
        "#Load data\n",
        "(x_train, y_train), (x_test, y_test) = cifar10.load_data()\n",
        "\n",
        "\n",
        "#Vectorize images\n",
        "x_train = np.array([np.float64(x.flatten()) for x in x_train])\n",
        "x_test = np.array([np.float64(x.flatten()) for x in x_test])\n",
        "\n",
        "\n",
        "#Normalize images\n",
        "x_train -= np.mean(x_train, axis = 0)\n",
        "x_train /= np.std(x_train, axis = 0)\n",
        "x_test -= np.mean(np.float64(x_test), axis = 0)\n",
        "x_test /= np.std(x_test, axis = 0)\n",
        "\n",
        "#One hot encoding of labels\n",
        "y_train = to_categorical(y_train)\n",
        "y_test = to_categorical(y_test)\n",
        "\n",
        "x_train = np.array(x_train)\n",
        "y_train = np.array(y_train)\n",
        "\n",
        "x_test = np.array(x_test)\n",
        "y_test = np.array(y_test)\n",
        "\n",
        "\n",
        "#Insert '1' for bias\n",
        "x_train = np.insert(x_train, 0, [1] * len(x_train), axis=1)\n",
        "x_test = np.insert(x_test, 0, [1] * len(x_test), axis=1)\n",
        "\n",
        "\n",
        "print('Train: X=%s, y=%s' % (x_train.shape, y_train.shape))\n",
        "print('Test: X=%s, y=%s' % (x_test.shape, y_test.shape))"
      ]
    },
    {
      "cell_type": "markdown",
      "source": [
        "# MultiLayer Perceptron Implementation"
      ],
      "metadata": {
        "id": "GVIBrrIiqDuN"
      }
    },
    {
      "cell_type": "code",
      "source": [
        "logistic = lambda z: 1./ (1 + np.exp(-z))\n",
        "\n",
        "class MultiLayerPerceptron:\n",
        "\n",
        "  def __init__(self, activation_function, num_hidden_layers, hidden_layers_width):\n",
        "    self.activation_function = activation_function\n",
        "    self.num_hidden_layers = num_hidden_layers\n",
        "    self.hidden_layers_width = hidden_layers_width\n",
        "    self.loss_per_epoch = []\n",
        "\n",
        "\n",
        "    #Initialize weights with given number of hidden layers (0, 1 or 2)\n",
        "    if num_hidden_layers == 0:\n",
        "      self.w1 = np.random.rand(10, 3073)/1000\n",
        "\n",
        "    elif num_hidden_layers == 1:\n",
        "      if len(hidden_layers_width) != 1:\n",
        "        raise Exception(\"Invalid input: len(hidden_layers_width) != num_hidden_layers\")\n",
        "      self.w1 = np.random.rand(hidden_layers_width[0], 3073)/100\n",
        "      self.w2 = np.random.rand(10, hidden_layers_width[0])/100\n",
        "\n",
        "    elif num_hidden_layers == 2:\n",
        "      if len(hidden_layers_width) != 2:\n",
        "        raise Exception(\"Invalid input: len(hidden_layers_width) != num_hidden_layers\")\n",
        "      self.w1 = np.random.rand(hidden_layers_width[0], 3073)/1000\n",
        "      self.w2 = np.random.rand(hidden_layers_width[1], hidden_layers_width[0])/1000\n",
        "      self.w3 = np.random.rand(10, hidden_layers_width[1])/1000\n",
        "    else:\n",
        "      raise Exception(\"Unsupported number of hidden layers\")\n",
        "\n",
        "\n",
        "  def fit(self, x, y, learning_rate, epsilon, max_iters, batch_size):\n",
        "\n",
        "    num_of_batches = int(len(x)/batch_size)\n",
        "    x_batches = np.array_split(x, num_of_batches)\n",
        "    y_batches = np.array_split(y, num_of_batches)\n",
        "\n",
        "    #Gradient descent\n",
        "    norms = np.array([np.inf])\n",
        "    t = 0\n",
        "    print(\"Epochs: \")\n",
        "    \n",
        "    #RELU WITH 0 HIDDEN LAYERS\n",
        "    if self.activation_function == self.relu and self.num_hidden_layers == 0:\n",
        "      while np.any(norms > epsilon) and t < max_iters:\n",
        "          for batch in range(num_of_batches):\n",
        "            grad = self.relu_gradient(x_batches[batch], y_batches[batch])\n",
        "            self.w1 -= learning_rate * grad #* (1/num_of_batches)\n",
        "          t += 1\n",
        "          norms = np.array([np.linalg.norm(g) for g in grad])\n",
        "          print(t, end=' ')\n",
        "      print(\"\")\n",
        "      print(f\"{t} iterations performed\")\n",
        "      return\n",
        "\n",
        "    #RELU WITH 1 HIDDEN LAYERS\n",
        "    elif self.activation_function == self.relu and self.num_hidden_layers == 1:\n",
        "      while t < max_iters:\n",
        "          for batch in range(num_of_batches):\n",
        "            grad_w1, grad_w2 = self.relu_gradient(x_batches[batch], y_batches[batch])\n",
        "            self.w1 -= learning_rate * grad_w1 #* (1/num_of_batches)\n",
        "            self.w2 -= learning_rate * grad_w2 #* (1/num_of_batches)\n",
        "          t += 1\n",
        "          print(t, end=' ')\n",
        "      print(\"\")\n",
        "      print(f\"{t} iterations performed\")\n",
        "      return\n",
        "\n",
        "    #RELU WITH 2 HIDDEN LAYERS\n",
        "    elif self.activation_function == self.relu and self.num_hidden_layers == 2:\n",
        "      while t < max_iters:\n",
        "          for batch in range(num_of_batches):\n",
        "            grad_w1, grad_w2, grad_w3 = self.relu_gradient(x_batches[batch], y_batches[batch])\n",
        "            self.w1 -= learning_rate * grad_w1 #* (1/num_of_batches)\n",
        "            self.w2 -= learning_rate * grad_w2 #* (1/num_of_batches)\n",
        "            self.w3 -= learning_rate * grad_w3 #* (1/num_of_batches)\n",
        "          t += 1\n",
        "          print(t, end=' ')\n",
        "      print(\"\")\n",
        "      print(f\"{t} iterations performed\")\n",
        "      return\n",
        "\n",
        "    \n",
        "    #TAN_H WITH 0 HIDDEN LAYERS\n",
        "    if self.activation_function == self.tanh and self.num_hidden_layers == 0:\n",
        "      while np.any(norms > epsilon) and t < max_iters:\n",
        "          for batch in range(num_of_batches):\n",
        "            grad = self.tanh_gradient(x_batches[batch], y_batches[batch])\n",
        "            self.w1 -= learning_rate * grad * (1/num_of_batches)\n",
        "          t += 1\n",
        "          norms = np.array([np.linalg.norm(g) for g in grad])\n",
        "          print(t, end=' ')\n",
        "      print(\"\")\n",
        "      print(f\"{t} iterations performed\")\n",
        "      return\n",
        "\n",
        "    #TAN_H WITH 1 HIDDEN LAYERS\n",
        "    if self.activation_function == self.tanh and self.num_hidden_layers == 1:\n",
        "      while np.any(norms > epsilon) and t < max_iters:\n",
        "          for batch in range(num_of_batches):\n",
        "            grad_w1, grad_w2 = self.tanh_gradient(x_batches[batch], y_batches[batch])\n",
        "            self.w1 -= learning_rate * grad_w1 * (1/num_of_batches)\n",
        "            self.w2 -= learning_rate * grad_w2 * (1/num_of_batches)\n",
        "          t += 1\n",
        "          print(t, end=' ')\n",
        "      print(\"\")\n",
        "      print(f\"{t} iterations performed\")\n",
        "      return\n",
        "\n",
        "    #TAN_H WITH 2 HIDDEN LAYERS\n",
        "    if self.activation_function == self.tanh and self.num_hidden_layers == 2:\n",
        "      while np.any(norms > epsilon) and t < max_iters:\n",
        "          for batch in range(num_of_batches):\n",
        "            grad_w1, grad_w2, grad_w3 = self.tanh_gradient(x_batches[batch], y_batches[batch])\n",
        "            self.w1 -= learning_rate * grad_w1 * (1/num_of_batches)\n",
        "            self.w2 -= learning_rate * grad_w2 * (1/num_of_batches)\n",
        "            self.w3 -= learning_rate * grad_w3 * (1/num_of_batches)\n",
        "          t += 1\n",
        "          print(t, end=' ')\n",
        "      print(\"\")\n",
        "      print(f\"{t} iterations performed\")\n",
        "      return\n",
        "\n",
        "\n",
        "  def relu_gradient(self, x, y):\n",
        "\n",
        "    y_hat = self.predict(x)\n",
        "    self.loss_per_epoch.append(MultiLayerPerceptron.total_loss(y, y_hat))\n",
        "    N, D = x.shape\n",
        "\n",
        "    if self.num_hidden_layers == 0:\n",
        "      dy = y_hat - y\n",
        "      dw1 = np.matmul(np.transpose(dy), x)\n",
        "      return dw1\n",
        "\n",
        "    elif self.num_hidden_layers == 1:\n",
        "      dy = y_hat - y\n",
        "      dw = (np.dot(self.z1_for_gradient, dy) / N).T\n",
        "      dz = np.dot(dy, self.w2)\n",
        "      dv = (np.dot(x.T, dz * (self.q1_for_gradient > 0).astype(int).T) / N).T\n",
        "      return dv, dw\n",
        "    elif self.num_hidden_layers == 2:\n",
        "      dy = y_hat - y\n",
        "      dw3 = (np.dot(self.z2_for_gradient, dy) / N).T\n",
        "      dz2 = np.dot(dy, self.w3)\n",
        "      dw2 = ((np.dot(self.z1_for_gradient, dz2 * (self.q2_for_gradient > 0).astype(int).T)) / N).T\n",
        "      dz1 = np.dot(dz2 * (1 - (self.z2_for_gradient.T)**2), self.w2)\n",
        "      dw1 = ((np.dot(x.T, dz1 * (self.q1_for_gradient > 0).astype(int).T)) / N).T\n",
        "      return dw1, dw2, dw3\n",
        "\n",
        "\n",
        "\n",
        "  def tanh_gradient(self, x, y):\n",
        "    y_hat = self.predict(x)\n",
        "    self.loss_per_epoch.append(MultiLayerPerceptron.total_loss(y, y_hat))\n",
        "    N, D = x.shape\n",
        "\n",
        "    if self.num_hidden_layers == 0:\n",
        "      dy = y_hat - y\n",
        "      dw1 = np.matmul(np.transpose(dy), x)\n",
        "      return dw1\n",
        "\n",
        "    elif self.num_hidden_layers == 1:\n",
        "      dy = y_hat - y\n",
        "      dw = (np.dot(self.z1_for_gradient, dy) / N).T\n",
        "      dz = np.dot(dy, self.w2)\n",
        "      dv = (np.dot(x.T, dz * (1 - (self.z1_for_gradient.T)**2)) / N).T\n",
        "      return dv, dw\n",
        "\n",
        "    elif self.num_hidden_layers == 2:\n",
        "      dy = y_hat - y\n",
        "      dw3 = (np.dot(self.z2_for_gradient, dy) / N).T\n",
        "      dz2 = np.dot(dy, self.w3)\n",
        "      dw2 = (np.dot(self.z1_for_gradient, dz2 * (1 - (self.z2_for_gradient.T)**2)) / N).T\n",
        "      dz1 = np.dot(dz2 * (1 - (self.z2_for_gradient.T)**2), self.w2)\n",
        "      dw1 = ((np.dot(x.T, dz1 * (1 - (self.z1_for_gradient.T)**2))) / N).T\n",
        "      return dw1, dw2, dw3\n",
        "\n",
        "\n",
        "  def predict(self, x):\n",
        "\n",
        "    if self.num_hidden_layers == 0:\n",
        "      return self.softmax(np.transpose(np.dot(self.w1, np.transpose(x))))\n",
        "\n",
        "    elif self.num_hidden_layers == 1:\n",
        "      q1 = np.dot(self.w1, np.transpose(x))\n",
        "      z1 = self.activation_function(q1)\n",
        "      self.q1_for_gradient = q1\n",
        "      self.z1_for_gradient = z1\n",
        "      return self.softmax(np.transpose(np.dot(self.w2, z1)))\n",
        "    else:\n",
        "      q1 = np.dot(self.w1, np.transpose(x))\n",
        "      z1 = self.activation_function(q1)\n",
        "      self.q1_for_gradient = q1\n",
        "      self.z1_for_gradient = z1\n",
        "      q2 = np.matmul(self.w2, z1)\n",
        "      z2 = self.activation_function(q2)\n",
        "      self.q2_for_gradient = q1\n",
        "      self.z2_for_gradient = z1\n",
        "      return self.softmax(np.transpose(np.matmul(self.w3, z2)))\n",
        "\n",
        "  \n",
        "  @staticmethod\n",
        "  def relu(x):\n",
        "    return (x + np.abs(x))/2\n",
        "\n",
        "  @staticmethod\n",
        "  def tanh(x):\n",
        "    return (np.exp(x) - np.exp(-x)) / (np.exp(x) + np.exp(-x))\n",
        "\n",
        "  @staticmethod\n",
        "  def softmax(x):\n",
        "    R, C = x.shape\n",
        "    for i in range(R):\n",
        "      if max(x[i]) > 709:\n",
        "        for j in range(C):\n",
        "          x[i][j] = np.exp(x[i][j])/denominator\n",
        "        highest_idx = np.argmax(x[i])\n",
        "        x[i][highest_idx] = 1\n",
        "        continue\n",
        "\n",
        "\n",
        "      denominator = sum([np.exp(j) for j in x[i]])\n",
        "      denominator = denominator if denominator > 0 else 1\n",
        "      for j in range(C):\n",
        "        x[i][j] = np.exp(x[i][j])/denominator\n",
        "    return x\n",
        "\n",
        "  @staticmethod\n",
        "  def accuracy(y, y_hat):\n",
        "\n",
        "    accurate_classifications = 0\n",
        "\n",
        "    for i, y in enumerate(y):\n",
        "      category = np.argmax(y)\n",
        "      predicted_category = np.argmax(y_hat[i])\n",
        "\n",
        "      if category == predicted_category:\n",
        "        accurate_classifications += 1\n",
        "\n",
        "    return accurate_classifications/len(y_hat)\n",
        "\n",
        "  @staticmethod\n",
        "  def total_loss(y, y_hat):\n",
        "\n",
        "    loss = 0\n",
        "\n",
        "    for i, y in enumerate(y):\n",
        "      category = np.argmax(y)\n",
        "      predicted_value = y_hat[i][category]\n",
        "      loss += (-1 * np.log(predicted_value))\n",
        "\n",
        "    return loss\n",
        "\n"
      ],
      "metadata": {
        "id": "rZxUINP8qC8O"
      },
      "execution_count": 30,
      "outputs": []
    },
    {
      "cell_type": "code",
      "source": [
        "np.exp(709)"
      ],
      "metadata": {
        "colab": {
          "base_uri": "https://localhost:8080/"
        },
        "id": "PgE-Zejr9d5f",
        "outputId": "3b27ea2a-d23b-4d1a-9eda-9ad9f01ed556"
      },
      "execution_count": 25,
      "outputs": [
        {
          "output_type": "execute_result",
          "data": {
            "text/plain": [
              "8.218407461554972e+307"
            ]
          },
          "metadata": {},
          "execution_count": 25
        }
      ]
    },
    {
      "cell_type": "code",
      "source": [
        "shuffle = list(zip(x_train, y_train))\n",
        "random.shuffle(shuffle)\n",
        "x_train, y_train = zip(*shuffle)\n",
        "num_train = 300\n",
        "\n",
        "\n",
        "mlp = MultiLayerPerceptron(MultiLayerPerceptron.relu, 2, [256, 256])\n",
        "\n",
        "preds = mlp.predict(x_train[:num_train])\n",
        "print(\"Initial Accuracy: \", MultiLayerPerceptron.accuracy(y_train[:num_train], preds)*100, \"%\")\n",
        "\n",
        "mlp.fit(x_train[:num_train], y_train[:num_train], learning_rate=0.0004, epsilon=0.0000001, max_iters=1000, batch_size=100)\n",
        "\n",
        "preds = mlp.predict(x_train[:num_train])\n",
        "print(\"Final Accuracy: \", MultiLayerPerceptron.accuracy(y_train[:num_train], preds)*100, \"%\")\n",
        "\n",
        "plt.plot(range(len(mlp.loss_per_epoch)), mlp.loss_per_epoch)\n",
        "plt.show()"
      ],
      "metadata": {
        "id": "_1yaz8_PzH79"
      },
      "execution_count": null,
      "outputs": []
    },
    {
      "cell_type": "code",
      "source": [
        "### WORKS WELL ###\n",
        "\n",
        "\n",
        "###1 layer tanh:\n",
        "# mlp.fit(x_train[:num_train], y_train[:num_train], learning_rate=0.01, epsilon=0.0000001, max_iters=2000, batch_size=100)\n",
        "# mlp.fit(x_train[:num_train], y_train[:num_train], learning_rate=0.05, epsilon=0.0000001, max_iters=1000, batch_size=1000)\n",
        "\n",
        "###2 layer tanh:\n",
        "#mlp.fit(x_train[:num_train], y_train[:num_train], learning_rate=0.1, epsilon=0.0000001, max_iters=3000, batch_size=100)\n",
        "\n",
        "\n",
        "###1 layer relu:\n",
        "#mlp.fit(x_train[:num_train], y_train[:num_train], learning_rate=0.006, epsilon=0.0000001, max_iters=3000, batch_size=20)\n",
        "\n"
      ],
      "metadata": {
        "id": "OOMgAtHRlt8G"
      },
      "execution_count": 6,
      "outputs": []
    },
    {
      "cell_type": "markdown",
      "source": [
        "# Experiments"
      ],
      "metadata": {
        "id": "Ze6QHOblrGDu"
      }
    },
    {
      "cell_type": "code",
      "source": [
        "### SHUFFLE ###\n",
        "shuffle = list(zip(x_train, y_train))\n",
        "random.shuffle(shuffle)\n",
        "x_train, y_train = zip(*shuffle)\n",
        "\n",
        "shuffle = list(zip(x_test, y_test))\n",
        "random.shuffle(shuffle)\n",
        "x_test, y_test = zip(*shuffle)"
      ],
      "metadata": {
        "id": "cbuxpZN6WCMb"
      },
      "execution_count": 40,
      "outputs": []
    },
    {
      "cell_type": "markdown",
      "source": [
        "## Experiment 1"
      ],
      "metadata": {
        "id": "vyaWOl9eVxkg"
      }
    },
    {
      "cell_type": "code",
      "source": [
        "### 0 HIDDEN-LAYER TRAINING ###\n",
        "mlp_0 = MultiLayerPerceptron(MultiLayerPerceptron.relu, 0, [])\n",
        "mlp_0.fit(x_train, y_train, learning_rate=0.0000001, epsilon=0.0000001, max_iters=20, batch_size=1000)"
      ],
      "metadata": {
        "colab": {
          "base_uri": "https://localhost:8080/"
        },
        "id": "GCQ5DHxfrNWT",
        "outputId": "d6aaf526-673c-4388-ecc3-d4d950e0b0e5"
      },
      "execution_count": 74,
      "outputs": [
        {
          "output_type": "stream",
          "name": "stdout",
          "text": [
            "Epochs: \n",
            "1 2 3 4 5 6 7 8 9 10 11 12 13 14 15 16 17 18 19 20 \n",
            "20 iterations performed\n"
          ]
        }
      ]
    },
    {
      "cell_type": "code",
      "source": [
        "### 1 HIDDEN-LAYER TRAINING ###\n",
        "mlp_0 = MultiLayerPerceptron(MultiLayerPerceptron.relu, 1, [256])\n",
        "mlp_0.fit(x_train, y_train, learning_rate=0.0000001, epsilon=0.006, max_iters=20, batch_size=1000)"
      ],
      "metadata": {
        "colab": {
          "base_uri": "https://localhost:8080/"
        },
        "id": "zbFu_YHCinXx",
        "outputId": "b42d8602-25b0-41e5-86be-64f125917c62"
      },
      "execution_count": 77,
      "outputs": [
        {
          "output_type": "stream",
          "name": "stdout",
          "text": [
            "Epochs: \n",
            "1 2 3 4 5 6 7 8 9 10 11 12 13 14 15 16 17 18 19 20 \n",
            "20 iterations performed\n"
          ]
        }
      ]
    },
    {
      "cell_type": "code",
      "source": [
        "plt.plot(range(len(mlp_0.loss_per_epoch)), mlp_0.loss_per_epoch)\n",
        "plt.show()"
      ],
      "metadata": {
        "colab": {
          "base_uri": "https://localhost:8080/",
          "height": 265
        },
        "id": "6b-FJW2iXtqT",
        "outputId": "a57111df-abbb-4a98-afbc-f5487f067bab"
      },
      "execution_count": 75,
      "outputs": [
        {
          "output_type": "display_data",
          "data": {
            "text/plain": [
              "<Figure size 432x288 with 1 Axes>"
            ],
            "image/png": "[encoded data removed]"
          },
          "metadata": {
            "needs_background": "light"
          }
        }
      ]
    },
    {
      "cell_type": "code",
      "source": [
        "preds_train = mlp_0.predict(x_train)\n",
        "preds_test = mlp_0.predict(x_test)\n",
        "print(\"0 Hidden-Layer Training Accuracy: \", MultiLayerPerceptron.accuracy(y_train, preds_train)*100, \"%\")\n",
        "print(\"0 Hidden-Layer Test Accuracy: \", MultiLayerPerceptron.accuracy(y_test, preds_test)*100, \"%\")"
      ],
      "metadata": {
        "colab": {
          "base_uri": "https://localhost:8080/"
        },
        "id": "KHb35g0KWa9I",
        "outputId": "0b8cf349-7abf-4b2e-c0a2-4e86cd997017"
      },
      "execution_count": 76,
      "outputs": [
        {
          "output_type": "stream",
          "name": "stdout",
          "text": [
            "0 Hidden-Layer Training Accuracy:  33.662 %\n",
            "0 Hidden-Layer Test Accuracy:  33.6 %\n"
          ]
        }
      ]
    }
  ]
}