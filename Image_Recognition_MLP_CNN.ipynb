{
 "cells": [
  {
   "cell_type": "code",
   "execution_count": 11,
   "id": "197d138b",
   "metadata": {},
   "outputs": [
    {
     "name": "stderr",
     "output_type": "stream",
     "text": [
      "/Users/justinlacoste/miniforge3/lib/python3.9/site-packages/scipy/__init__.py:146: UserWarning: A NumPy version >=1.16.5 and <1.23.0 is required for this version of SciPy (detected version 1.24.1\n",
      "  warnings.warn(f\"A NumPy version >={np_minversion} and <{np_maxversion}\"\n"
     ]
    }
   ],
   "source": [
    "### IMPORTS ###\n",
    "from keras.datasets import cifar10\n",
    "import numpy as np\n",
    "import matplotlib.pyplot as plt\n",
    "from keras.utils import to_categorical\n",
    "import matplotlib.pyplot as plt\n",
    "import random"
   ]
  },
  {
   "cell_type": "code",
   "execution_count": null,
   "id": "4abb9444",
   "metadata": {},
   "outputs": [],
   "source": [
    "######################################################\n",
    "###### TASK 1: DATA ACQUISITION AND EXPLORATION ######\n",
    "######################################################"
   ]
  },
  {
   "cell_type": "code",
   "execution_count": 12,
   "id": "4c175a25",
   "metadata": {},
   "outputs": [
    {
     "name": "stdout",
     "output_type": "stream",
     "text": [
      "Downloading data from https://www.cs.toronto.edu/~kriz/cifar-10-python.tar.gz\n",
      "170498071/170498071 [==============================] - 8s 0us/step\n",
      "Train: X=(50000, 3073), y=(50000, 10)\n",
      "Test: X=(10000, 3073), y=(10000, 10)\n"
     ]
    }
   ],
   "source": [
    "### LOAD AND PREPARE DATA ###\n",
    "\n",
    "#Load data\n",
    "(x_train, y_train), (x_test, y_test) = cifar10.load_data()\n",
    "\n",
    "\n",
    "#Vectorize images\n",
    "x_train = np.array([np.float64(x.flatten()) for x in x_train])\n",
    "x_test = np.array([np.float64(x.flatten()) for x in x_test])\n",
    "\n",
    "\n",
    "#Normalize images\n",
    "x_train -= np.mean(x_train, axis = 0)\n",
    "x_train /= np.std(x_train, axis = 0)\n",
    "x_test -= np.mean(np.float64(x_test), axis = 0)\n",
    "x_test /= np.std(x_test, axis = 0)\n",
    "\n",
    "#One hot encoding of labels\n",
    "y_train = to_categorical(y_train)\n",
    "y_test = to_categorical(y_test)\n",
    "\n",
    "x_train = np.array(x_train)\n",
    "y_train = np.array(y_train)\n",
    "\n",
    "x_test = np.array(x_test)\n",
    "y_test = np.array(y_test)\n",
    "\n",
    "\n",
    "#Insert '1' for bias\n",
    "x_train = np.insert(x_train, 0, [1] * len(x_train), axis=1)\n",
    "x_test = np.insert(x_test, 0, [1] * len(x_test), axis=1)\n",
    "\n",
    "\n",
    "print('Train: X=%s, y=%s' % (x_train.shape, y_train.shape))\n",
    "print('Test: X=%s, y=%s' % (x_test.shape, y_test.shape))"
   ]
  },
  {
   "cell_type": "code",
   "execution_count": 188,
   "id": "d27b5a02",
   "metadata": {},
   "outputs": [
    {
     "name": "stdout",
     "output_type": "stream",
     "text": [
      "training set:  {'airplane': 1000, 'frog': 1000, 'dog': 1000, 'automobile': 1000, 'truck': 1000, 'deer': 1000, 'ship': 1000, 'cat': 1000, 'bird': 1000, 'horse': 1000}\n",
      "test set:  {'airplane': 1000, 'frog': 1000, 'dog': 1000, 'automobile': 1000, 'truck': 1000, 'deer': 1000, 'ship': 1000, 'cat': 1000, 'bird': 1000, 'horse': 1000}\n"
     ]
    }
   ],
   "source": [
    "#Explore data\n",
    "label_names = ['airplane', 'automobile', 'bird', 'cat', 'deer', 'dog', 'frog', 'horse', 'ship', 'truck']\n",
    "l_train = [label_names[np.argmax(y)] for y in y_train]\n",
    "c_train = [l.count(x) for x in l]\n",
    "d_train = dict(zip(l,c))\n",
    "\n",
    "l_test = [label_names[np.argmax(y)] for y in y_test]\n",
    "c_test = [l.count(x) for x in l]\n",
    "d_test = dict(zip(l,c))\n",
    "\n",
    "print(\"training set: \", d_train)\n",
    "print(\"test set: \", d_test)"
   ]
  },
  {
   "cell_type": "code",
   "execution_count": 195,
   "id": "6a2e8235",
   "metadata": {},
   "outputs": [],
   "source": [
    "logistic = lambda z: 1./ (1 + np.exp(-z))\n",
    "\n",
    "class MultiLayerPerceptron:\n",
    "\n",
    "  def __init__(self, activation_function, num_hidden_layers, hidden_layers_width, l1_lambda=None, l2_lambda=None):\n",
    "    self.activation_function = activation_function\n",
    "    self.num_hidden_layers = num_hidden_layers\n",
    "    self.hidden_layers_width = hidden_layers_width\n",
    "    self.l1_lambda = l1_lambda\n",
    "    self.l2_lambda = l2_lambda\n",
    "    self.loss_per_epoch = []\n",
    "    self.total_number_of_epochs = 0\n",
    "    self.train_accuracies = []\n",
    "    self.test_accuracies = []\n",
    "\n",
    "\n",
    "    #Initialize weights with given number of hidden layers (0, 1 or 2)\n",
    "    if num_hidden_layers == 0:\n",
    "      self.w1 = np.random.rand(10, 3073)/1000\n",
    "\n",
    "    elif num_hidden_layers == 1:\n",
    "      if len(hidden_layers_width) != 1:\n",
    "        raise Exception(\"Invalid input: len(hidden_layers_width) != num_hidden_layers\")\n",
    "      self.w1 = np.random.rand(hidden_layers_width[0], 3073)/100\n",
    "      self.w2 = np.random.rand(10, hidden_layers_width[0])/100\n",
    "\n",
    "    elif num_hidden_layers == 2:\n",
    "      if len(hidden_layers_width) != 2:\n",
    "        raise Exception(\"Invalid input: len(hidden_layers_width) != num_hidden_layers\")\n",
    "      self.w1 = np.random.rand(hidden_layers_width[0], 3073)/100\n",
    "      self.w2 = np.random.rand(hidden_layers_width[1], hidden_layers_width[0])/100\n",
    "      self.w3 = np.random.rand(10, hidden_layers_width[1])/100\n",
    "    else:\n",
    "      raise Exception(\"Unsupported number of hidden layers\")\n",
    "\n",
    "\n",
    "  def fit(self, x, y, learning_rate, epsilon, max_iters, batch_size, x_test=[], y_test=[]):\n",
    "\n",
    "    num_of_batches = int(len(x)/batch_size)\n",
    "    x_batches = np.array_split(x, num_of_batches)\n",
    "    y_batches = np.array_split(y, num_of_batches)\n",
    "\n",
    "    #Gradient descent\n",
    "    norms = np.array([np.inf])\n",
    "    t = 0\n",
    "    print(\"Epochs: \")\n",
    "   \n",
    "\n",
    "    #RELU WITH 0 HIDDEN LAYERS\n",
    "    if self.activation_function == self.relu and self.num_hidden_layers == 0:\n",
    "      while np.any(norms > epsilon) and t < max_iters:\n",
    "          for batch in range(num_of_batches):\n",
    "            grad = self.relu_gradient(x_batches[batch], y_batches[batch])\n",
    "            self.w1 -= learning_rate * grad #* (1/num_of_batches)\n",
    "          t += 1\n",
    "          norms = np.array([np.linalg.norm(g) for g in grad])\n",
    "          print(t, end=' ')\n",
    "        \n",
    "          self.one_epoch_ran(x, x_test, y, y_test)\n",
    "    \n",
    "      print(\"\")\n",
    "      print(f\"{t} iterations performed\")\n",
    "\n",
    "    #RELU WITH 1 HIDDEN LAYERS\n",
    "    elif self.activation_function == self.relu and self.num_hidden_layers == 1:\n",
    "      while t < max_iters:\n",
    "          for batch in range(num_of_batches):\n",
    "            grad_w1, grad_w2 = self.relu_gradient(x_batches[batch], y_batches[batch])\n",
    "            self.w1 -= learning_rate * grad_w1 #* (1/num_of_batches)\n",
    "            self.w2 -= learning_rate * grad_w2 #* (1/num_of_batches)\n",
    "            \n",
    "          self.one_epoch_ran(x, x_test, y, y_test)\n",
    "            \n",
    "          t += 1\n",
    "          print(t, end=' ')\n",
    "      print(\"\")\n",
    "      print(f\"{t} iterations performed\")\n",
    "\n",
    "        \n",
    "    #RELU WITH 2 HIDDEN LAYERS\n",
    "    elif self.activation_function == self.relu and self.num_hidden_layers == 2:\n",
    "      while t < max_iters:\n",
    "          for batch in range(num_of_batches):\n",
    "            grad_w1, grad_w2, grad_w3 = self.relu_gradient(x_batches[batch], y_batches[batch])\n",
    "            self.w1 -= learning_rate * grad_w1 #* (1/num_of_batches)\n",
    "            self.w2 -= learning_rate * grad_w2 #* (1/num_of_batches)\n",
    "            self.w3 -= learning_rate * grad_w3 #* (1/num_of_batches)\n",
    "            \n",
    "          self.one_epoch_ran(x, x_test, y, y_test)\n",
    "          t += 1\n",
    "          print(t, end=' ')\n",
    "      print(\"\")\n",
    "      print(f\"{t} iterations performed\")\n",
    "\n",
    "\n",
    "    \n",
    "    #TAN_H WITH 0 HIDDEN LAYERS\n",
    "    elif self.activation_function == self.tanh and self.num_hidden_layers == 0:\n",
    "      while np.any(norms > epsilon) and t < max_iters:\n",
    "          for batch in range(num_of_batches):\n",
    "            grad = self.tanh_gradient(x_batches[batch], y_batches[batch])\n",
    "            self.w1 -= learning_rate * grad * (1/num_of_batches)\n",
    "          t += 1\n",
    "          norms = np.array([np.linalg.norm(g) for g in grad])\n",
    "          print(t, end=' ')\n",
    "      print(\"\")\n",
    "      print(f\"{t} iterations performed\")\n",
    "\n",
    "\n",
    "    #TAN_H WITH 1 HIDDEN LAYERS\n",
    "    elif self.activation_function == self.tanh and self.num_hidden_layers == 1:\n",
    "      while np.any(norms > epsilon) and t < max_iters:\n",
    "          for batch in range(num_of_batches):\n",
    "            grad_w1, grad_w2 = self.tanh_gradient(x_batches[batch], y_batches[batch])\n",
    "            self.w1 -= learning_rate * grad_w1 * (1/num_of_batches)\n",
    "            self.w2 -= learning_rate * grad_w2 * (1/num_of_batches)\n",
    "          t += 1\n",
    "          print(t, end=' ')\n",
    "      print(\"\")\n",
    "      print(f\"{t} iterations performed\")\n",
    "\n",
    "\n",
    "    #TAN_H WITH 2 HIDDEN LAYERS\n",
    "    elif self.activation_function == self.tanh and self.num_hidden_layers == 2:\n",
    "      while np.any(norms > epsilon) and t < max_iters:\n",
    "          for batch in range(num_of_batches):\n",
    "            grad_w1, grad_w2, grad_w3 = self.tanh_gradient(x_batches[batch], y_batches[batch])\n",
    "            self.w1 -= learning_rate * grad_w1 * (1/num_of_batches)\n",
    "            self.w2 -= learning_rate * grad_w2 * (1/num_of_batches)\n",
    "            self.w3 -= learning_rate * grad_w3 * (1/num_of_batches)\n",
    "          t += 1\n",
    "          print(t, end=' ')\n",
    "      print(\"\")\n",
    "      print(f\"{t} iterations performed\")\n",
    "\n",
    "\n",
    "    #Displaying graph at the end\n",
    "    plt.plot(range(len(self.loss_per_epoch)), self.loss_per_epoch)\n",
    "    plt.title(\"Training Loss per Step\")\n",
    "    plt.show()\n",
    "    plt.plot(range(len(self.train_accuracies)), self.train_accuracies, label=\"train\")\n",
    "    plt.plot(range(len(self.test_accuracies)), self.test_accuracies, label=\"test\")\n",
    "    plt.legend(loc=\"upper right\")\n",
    "    plt.title(\"Train/Test Accuracy per Epoch\")\n",
    "    plt.show()\n",
    "    print(\"Training Accuracy: \", self.train_accuracies[-1]*100, \"%\")\n",
    "    print(\"Test Accuracy: \",self.test_accuracies[-1]*100, \"%\")\n",
    "    \n",
    "\n",
    "\n",
    "  def relu_gradient(self, x, y):\n",
    "\n",
    "    y_hat = self.predict(x)\n",
    "    self.loss_per_epoch.append(MultiLayerPerceptron.total_loss(y, y_hat))\n",
    "    N, D = x.shape\n",
    "\n",
    "    if self.num_hidden_layers == 0:\n",
    "      dy = y_hat - y\n",
    "      dw1 = np.matmul(np.transpose(dy), x)\n",
    "      return dw1\n",
    "\n",
    "    elif self.num_hidden_layers == 1:\n",
    "      dy = y_hat - y\n",
    "      dw = (np.dot(self.z1_for_gradient, dy) / N).T\n",
    "      dz = np.dot(dy, self.w2)\n",
    "      dv = (np.dot(x.T, dz * (self.q1_for_gradient > 0).astype(int).T) / N).T\n",
    "      return dv, dw\n",
    "    elif self.num_hidden_layers == 2:\n",
    "      dy = y_hat - y\n",
    "      dw3 = (np.dot(self.z2_for_gradient, dy) / N).T\n",
    "      dz2 = np.dot(dy, self.w3)\n",
    "      dw2 = ((np.dot(self.z1_for_gradient, dz2 * (self.q2_for_gradient > 0).astype(int).T)) / N).T\n",
    "      dz1 = np.dot(dz2 * (self.q2_for_gradient > 0).astype(int).T, self.w2)\n",
    "      dw1 = ((np.dot(x.T, dz1 * (self.q1_for_gradient > 0).astype(int).T)) / N).T\n",
    "      return dw1, dw2, dw3\n",
    "\n",
    "\n",
    "\n",
    "  def tanh_gradient(self, x, y):\n",
    "    y_hat = self.predict(x)\n",
    "    self.loss_per_epoch.append(MultiLayerPerceptron.total_loss(y, y_hat))\n",
    "    N, D = x.shape\n",
    "\n",
    "    if self.num_hidden_layers == 0:\n",
    "      dy = y_hat - y\n",
    "      dw1 = np.matmul(np.transpose(dy), x)\n",
    "      return dw1\n",
    "\n",
    "    elif self.num_hidden_layers == 1:\n",
    "      dy = y_hat - y\n",
    "      dw = (np.dot(self.z1_for_gradient, dy) / N).T\n",
    "      dz = np.dot(dy, self.w2)\n",
    "      dv = (np.dot(x.T, dz * (1 - (self.z1_for_gradient.T)**2)) / N).T\n",
    "      return dv, dw\n",
    "\n",
    "    elif self.num_hidden_layers == 2:\n",
    "      dy = y_hat - y\n",
    "      dw3 = (np.dot(self.z2_for_gradient, dy) / N).T\n",
    "      dz2 = np.dot(dy, self.w3)\n",
    "      dw2 = (np.dot(self.z1_for_gradient, dz2 * (1 - (self.z2_for_gradient.T)**2)) / N).T\n",
    "      dz1 = np.dot(dz2 * (1 - (self.z2_for_gradient.T)**2), self.w2)\n",
    "      dw1 = ((np.dot(x.T, dz1 * (1 - (self.z1_for_gradient.T)**2))) / N).T\n",
    "      return dw1, dw2, dw3\n",
    "\n",
    "\n",
    "  def predict(self, x):\n",
    "\n",
    "    if self.num_hidden_layers == 0:\n",
    "      return self.softmax(np.transpose(np.dot(self.w1, np.transpose(x))))\n",
    "\n",
    "    elif self.num_hidden_layers == 1:\n",
    "      q1 = np.dot(self.w1, np.transpose(x))\n",
    "      z1 = self.activation_function(q1)\n",
    "      self.q1_for_gradient = q1\n",
    "      self.z1_for_gradient = z1\n",
    "      return self.softmax(np.transpose(np.dot(self.w2, z1)))\n",
    "    else:\n",
    "      q1 = np.dot(self.w1, np.transpose(x))\n",
    "      z1 = self.activation_function(q1)\n",
    "      self.q1_for_gradient = q1\n",
    "      self.z1_for_gradient = z1\n",
    "      q2 = np.matmul(self.w2, z1)\n",
    "      z2 = self.activation_function(q2)\n",
    "      self.q2_for_gradient = q2\n",
    "      self.z2_for_gradient = z2\n",
    "      return self.softmax(np.transpose(np.matmul(self.w3, z2)))\n",
    "\n",
    "  \n",
    "  @staticmethod\n",
    "  def relu(x):\n",
    "    return (x + np.abs(x))/2\n",
    "\n",
    "  @staticmethod\n",
    "  def leaky_relu(x):\n",
    "    y1 = ((x > 0) * x)                                                 \n",
    "    y2 = ((x <= 0) * x * 0.01)                                         \n",
    "    return y1 + y2  \n",
    "\n",
    "  @staticmethod\n",
    "  def tanh(x):\n",
    "    return (np.exp(x) - np.exp(-x)) / (np.exp(x) + np.exp(-x))\n",
    "\n",
    "  @staticmethod\n",
    "  def softmax(x):\n",
    "    R, C = x.shape\n",
    "    for i in range(R):\n",
    "      if max(x[i]) > 709:\n",
    "        denominator = sum(x[i])\n",
    "        for j in range(C):\n",
    "          x[i][j] = np.exp(x[i][j])/denominator\n",
    "        highest_idx = np.argmax(x[i])\n",
    "        x[i][highest_idx] = 1\n",
    "        continue\n",
    "\n",
    "\n",
    "      denominator = sum([np.exp(j) for j in x[i]])\n",
    "      denominator = denominator if denominator > 0 else 1\n",
    "      for j in range(C):\n",
    "        x[i][j] = np.exp(x[i][j])/denominator\n",
    "    return x\n",
    "\n",
    "  @staticmethod\n",
    "  def accuracy(y, y_hat):\n",
    "\n",
    "    accurate_classifications = 0\n",
    "\n",
    "    for i, y in enumerate(y):\n",
    "      category = np.argmax(y)\n",
    "      predicted_category = np.argmax(y_hat[i])\n",
    "\n",
    "      if category == predicted_category:\n",
    "        accurate_classifications += 1\n",
    "\n",
    "    return accurate_classifications/len(y_hat)\n",
    "\n",
    "  @staticmethod\n",
    "  def total_loss(y, y_hat):\n",
    "\n",
    "    loss = 0\n",
    "\n",
    "    for i, y in enumerate(y):\n",
    "      category = np.argmax(y)\n",
    "      predicted_value = y_hat[i][category]\n",
    "      loss += (-1 * np.log(predicted_value))\n",
    "\n",
    "    return loss\n",
    "\n",
    "  def one_epoch_ran(self, x_train, x_test, y_train, y_test):\n",
    "    self.total_number_of_epochs += 1\n",
    "    yh_train = self.predict(x_train)\n",
    "    yh_test = self.predict(x_test)\n",
    "    self.compute_accuracies(y_train, yh_train, y_test, yh_test)\n",
    "    self.model_checkpoint()\n",
    "\n",
    "  \n",
    "  def save_weights_loss_accuracies(self, filename):\n",
    "    if self.num_hidden_layers == 0:\n",
    "      np.save(filename, np.array([self.w1, self.loss_per_epoch, self.train_accuracies, self.test_accuracies],dtype=object))\n",
    "    elif self.num_hidden_layers == 1:\n",
    "      np.save(filename, np.array([self.w1, self.w2, self.loss_per_epoch, self.train_accuracies, self.test_accuracies],dtype=object))\n",
    "    elif self.num_hidden_layers == 2:\n",
    "      np.save(filename, np.array([self.w1, self.w2, self.w3, self.loss_per_epoch, self.train_accuracies, self.test_accuracies],dtype=object))\n",
    "    return\n",
    "    \n",
    "  def compute_accuracies(self, y_train, yh_train, y_test, yh_test):\n",
    "    train_accuracy = MultiLayerPerceptron.accuracy(y_train, yh_train)\n",
    "    test_accuracy = MultiLayerPerceptron.accuracy(y_test, yh_test)\n",
    "    self.train_accuracies.append(train_accuracy)\n",
    "    self.test_accuracies.append(test_accuracy)\n",
    "    return\n",
    "    \n",
    "  def model_checkpoint(self):\n",
    "    if self.total_number_of_epochs > 0 and self.total_number_of_epochs % 50 == 0:\n",
    "        train_accuracy = round(self.train_accuracies[-1]*100)\n",
    "        test_accuracy = round(self.test_accuracies[-1]*100)\n",
    "        filename = f\"{self.num_hidden_layers}_layers_{self.activation_function.__name__}_{train_accuracy}train_{test_accuracy}test.npy\"\n",
    "        self.save_weights_loss_accuracies(filename)\n",
    "        \n",
    "  def load_model(self, model_checkpoint_name):\n",
    "    if self.num_hidden_layers == 0:\n",
    "      self.w1, self.loss_per_epoch, self.train_accuracies, self.test_accuracies = np.load(model_checkpoint_name, allow_pickle=True)\n",
    "    elif self.num_hidden_layers == 1:\n",
    "      self.w1, self.w2, self.loss_per_epoch, self.train_accuracies, self.test_accuracies = np.load(model_checkpoint_name, allow_pickle=True)\n",
    "    elif self.num_hidden_layers == 2:\n",
    "      self.w1, self.w2, self.w3, self.loss_per_epoch, self.train_accuracies, self.test_accuracies = np.load(model_checkpoint_name, allow_pickle=True)\n"
   ]
  },
  {
   "cell_type": "code",
   "execution_count": 27,
   "id": "ef433855",
   "metadata": {},
   "outputs": [],
   "source": [
    "### SHUFFLE ###\n",
    "shuffle = list(zip(x_train, y_train))\n",
    "random.shuffle(shuffle)\n",
    "x_train, y_train = zip(*shuffle)\n",
    "\n",
    "shuffle = list(zip(x_test, y_test))\n",
    "random.shuffle(shuffle)\n",
    "x_test, y_test = zip(*shuffle)"
   ]
  },
  {
   "cell_type": "code",
   "execution_count": null,
   "id": "996c3cd9",
   "metadata": {},
   "outputs": [],
   "source": [
    "\n",
    "#####################\n",
    "###### TASK 1 #######\n",
    "#####################\n"
   ]
  },
  {
   "cell_type": "code",
   "execution_count": 137,
   "id": "1a7c094a",
   "metadata": {},
   "outputs": [
    {
     "name": "stdout",
     "output_type": "stream",
     "text": [
      "Epochs: \n",
      "1 2 3 4 5 6 7 8 9 10 11 12 13 14 15 16 17 18 19 20 \n",
      "20 iterations performed\n"
     ]
    },
    {
     "data": {
      "image/png": "[encoded data removed]",
      "text/plain": [
       "<Figure size 432x288 with 1 Axes>"
      ]
     },
     "metadata": {
      "needs_background": "light"
     },
     "output_type": "display_data"
    },
    {
     "data": {
      "image/png": "[encoded data removed]",
      "text/plain": [
       "<Figure size 432x288 with 1 Axes>"
      ]
     },
     "metadata": {
      "needs_background": "light"
     },
     "output_type": "display_data"
    },
    {
     "name": "stdout",
     "output_type": "stream",
     "text": [
      "Training Accuracy:  39.486 %\n",
      "Test Accuracy:  39.24 %\n"
     ]
    }
   ],
   "source": [
    "### 0 HIDDEN-LAYER TRAINING ###\n",
    "mlp_0 = MultiLayerPerceptron(MultiLayerPerceptron.relu, 0, [])\n",
    "mlp_0.fit(x_train, y_train, learning_rate=0.0000001, epsilon=0.0000001, max_iters=20, batch_size=50000, x_test=x_test, y_test=y_test)"
   ]
  },
  {
   "cell_type": "code",
   "execution_count": null,
   "id": "f29715b5",
   "metadata": {},
   "outputs": [],
   "source": [
    "### 1 HIDDEN-LAYER TRAINING ###\n",
    "#mlp_1 = MultiLayerPerceptron(MultiLayerPerceptron.relu, 1, [256])\n",
    "mlp_1.fit(x_train, y_train, learning_rate=0.02, epsilon=0.0000001, max_iters=100, batch_size=10000, x_test=x_test, y_test=y_test)"
   ]
  },
  {
   "cell_type": "code",
   "execution_count": 193,
   "id": "ca9e1135",
   "metadata": {},
   "outputs": [],
   "source": [
    "mlp_2 = MultiLayerPerceptron(MultiLayerPerceptron.relu, 2, [256, 256])\n",
    "mlp_2.load_model('2_layers_relu_38train_38test.npy')"
   ]
  },
  {
   "cell_type": "code",
   "execution_count": 194,
   "id": "70963386",
   "metadata": {},
   "outputs": [
    {
     "name": "stdout",
     "output_type": "stream",
     "text": [
      "Epochs: \n",
      "1 2 3 4 5 6 7 8 9 10 11 12 13 14 15 16 17 18 19 20 \n",
      "20 iterations performed\n"
     ]
    },
    {
     "data": {
      "image/png": "[encoded data removed]",
      "text/plain": [
       "<Figure size 432x288 with 1 Axes>"
      ]
     },
     "metadata": {
      "needs_background": "light"
     },
     "output_type": "display_data"
    },
    {
     "data": {
      "image/png": "[encoded data removed]",
      "text/plain": [
       "<Figure size 432x288 with 1 Axes>"
      ]
     },
     "metadata": {
      "needs_background": "light"
     },
     "output_type": "display_data"
    },
    {
     "name": "stdout",
     "output_type": "stream",
     "text": [
      "Training Accuracy:  38.124 %\n",
      "Test Accuracy:  38.46 %\n"
     ]
    }
   ],
   "source": [
    "### 2 HIDDEN-LAYER TRAINING ###\n",
    "# mlp_2 = MultiLayerPerceptron(MultiLayerPerceptron.relu, 2, [256, 256])\n",
    "mlp_2.fit(x_train, y_train, learning_rate=0.0001, epsilon=0.00000007, max_iters=20, batch_size=50000, x_test=x_test, y_test=y_test)"
   ]
  },
  {
   "cell_type": "code",
   "execution_count": null,
   "id": "ea1adbe9",
   "metadata": {},
   "outputs": [],
   "source": [
    "\n",
    "#####################\n",
    "###### TASK 2 #######\n",
    "#####################\n"
   ]
  },
  {
   "cell_type": "code",
   "execution_count": null,
   "id": "06602714",
   "metadata": {},
   "outputs": [],
   "source": [
    "mlp_2_tanh = MultiLayerPerceptron(MultiLayerPerceptron.tanh, 2, [256, 256])\n",
    "mlp_2_tanh.load_model('2_layers_relu_38train_38test.npy')"
   ]
  }
 ],
 "metadata": {
  "kernelspec": {
   "display_name": "Python 3 (ipykernel)",
   "language": "python",
   "name": "python3"
  },
  "language_info": {
   "codemirror_mode": {
    "name": "ipython",
    "version": 3
   },
   "file_extension": ".py",
   "mimetype": "text/x-python",
   "name": "python",
   "nbconvert_exporter": "python",
   "pygments_lexer": "ipython3",
   "version": "3.9.6"
  }
 },
 "nbformat": 4,
 "nbformat_minor": 5
}
