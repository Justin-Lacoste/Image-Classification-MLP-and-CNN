{
  "cells": [
    {
      "cell_type": "code",
      "execution_count": 191,
      "metadata": {
        "id": "HxicNYGmgP4C"
      },
      "outputs": [],
      "source": [
        "### IMPORTS ###\n",
        "from keras.datasets import cifar10\n",
        "import numpy as np\n",
        "import matplotlib.pyplot as plt\n",
        "from keras.utils import to_categorical\n",
        "import matplotlib.pyplot as plt\n",
        "import random"
      ]
    },
    {
      "cell_type": "markdown",
      "metadata": {
        "id": "eF8NxZpHpz3I"
      },
      "source": [
        "## Data Processing"
      ]
    },
    {
      "cell_type": "code",
      "execution_count": 199,
      "metadata": {
        "colab": {
          "base_uri": "https://localhost:8080/"
        },
        "id": "pPK5Hxw-fyyv",
        "outputId": "481b01bf-a49e-4ae6-ec09-232672c09a72"
      },
      "outputs": [
        {
          "name": "stdout",
          "output_type": "stream",
          "text": [
            "Train: X=(50000, 3073), y=(50000, 10)\n",
            "Test: X=(10000, 3073), y=(10000, 10)\n"
          ]
        }
      ],
      "source": [
        "### LOAD AND PREPARE DATA ###\n",
        "\n",
        "#Load data\n",
        "(x_train, y_train), (x_test, y_test) = cifar10.load_data()\n",
        "\n",
        "\n",
        "#Vectorize images\n",
        "x_train = np.array([np.float64(x.flatten()) for x in x_train])\n",
        "x_test = np.array([np.float64(x.flatten()) for x in x_test])\n",
        "\n",
        "\n",
        "#Normalize images\n",
        "x_train -= np.mean(x_train, axis = 0)\n",
        "x_train /= np.std(x_train, axis = 0)\n",
        "x_test -= np.mean(np.float64(x_test), axis = 0)\n",
        "x_test /= np.std(x_test, axis = 0)\n",
        "\n",
        "#One hot encoding of labels\n",
        "y_train = to_categorical(y_train)\n",
        "y_test = to_categorical(y_test)\n",
        "\n",
        "x_train = np.array(x_train)\n",
        "y_train = np.array(y_train)\n",
        "\n",
        "x_test = np.array(x_test)\n",
        "y_test = np.array(y_test)\n",
        "\n",
        "\n",
        "#Insert '1' for bias\n",
        "x_train = np.insert(x_train, 0, [1] * len(x_train), axis=1)\n",
        "x_test = np.insert(x_test, 0, [1] * len(x_test), axis=1)\n",
        "\n",
        "\n",
        "print('Train: X=%s, y=%s' % (x_train.shape, y_train.shape))\n",
        "print('Test: X=%s, y=%s' % (x_test.shape, y_test.shape))"
      ]
    },
    {
      "cell_type": "markdown",
      "metadata": {
        "id": "GVIBrrIiqDuN"
      },
      "source": [
        "# MultiLayer Perceptron Implementation"
      ]
    },
    {
      "cell_type": "code",
      "execution_count": 188,
      "metadata": {
        "id": "rZxUINP8qC8O"
      },
      "outputs": [],
      "source": [
        "logistic = lambda z: 1./ (1 + np.exp(-z))\n",
        "\n",
        "class MultiLayerPerceptron:\n",
        "\n",
        "  def __init__(self, activation_function, num_hidden_layers, hidden_layers_width):\n",
        "    self.activation_function = activation_function\n",
        "    self.num_hidden_layers = num_hidden_layers\n",
        "    self.hidden_layers_width = hidden_layers_width\n",
        "    self.loss_per_epoch = []\n",
        "\n",
        "\n",
        "    #Initialize weights with given number of hidden layers (0, 1 or 2)\n",
        "    if num_hidden_layers == 0:\n",
        "      self.w1 = np.random.rand(10, 3073)/100\n",
        "\n",
        "    elif num_hidden_layers == 1:\n",
        "      if len(hidden_layers_width) != 1:\n",
        "        raise Exception(\"Invalid input: len(hidden_layers_width) != num_hidden_layers\")\n",
        "      self.w1 = np.random.rand(hidden_layers_width[0], 3073)/100\n",
        "      self.w2 = np.random.rand(10, hidden_layers_width[0])/100\n",
        "\n",
        "    elif num_hidden_layers == 2:\n",
        "      if len(hidden_layers_width) != 2:\n",
        "        raise Exception(\"Invalid input: len(hidden_layers_width) != num_hidden_layers\")\n",
        "      self.w1 = np.random.rand(hidden_layers_width[0], 3073)/100\n",
        "      self.w2 = np.random.rand(hidden_layers_width[1], hidden_layers_width[0])/100\n",
        "      self.w3 = np.random.rand(10, hidden_layers_width[1])/100\n",
        "    else:\n",
        "      raise Exception(\"Unsupported number of hidden layers\")\n",
        "\n",
        "\n",
        "  def fit(self, x, y, learning_rate, epsilon, max_iters, batch_size):\n",
        "\n",
        "    num_of_batches = int(len(x)/batch_size)\n",
        "    x_batches = np.array_split(x, num_of_batches)\n",
        "    y_batches = np.array_split(y, num_of_batches)\n",
        "\n",
        "    #Gradient descent\n",
        "    norms = np.array([np.inf])\n",
        "    t = 0\n",
        "    print(\"Epochs: \")\n",
        "    \n",
        "    #RELU WITH 0 HIDDEN LAYERS\n",
        "    if self.activation_function == self.relu and self.num_hidden_layers == 0:\n",
        "      while np.any(norms > epsilon) and t < max_iters:\n",
        "          for batch in range(num_of_batches):\n",
        "            grad = self.relu_gradient(x_batches[batch], y_batches[batch])\n",
        "            self.w1 -= learning_rate * grad #* (1/num_of_batches)\n",
        "          t += 1\n",
        "          norms = np.array([np.linalg.norm(g) for g in grad])\n",
        "          print(t, end=' ')\n",
        "      print(\"\")\n",
        "      print(f\"{t} iterations performed\")\n",
        "      return\n",
        "\n",
        "    #RELU WITH 1 HIDDEN LAYERS\n",
        "    elif self.activation_function == self.relu and self.num_hidden_layers == 1:\n",
        "      while t < max_iters:\n",
        "          for batch in range(num_of_batches):\n",
        "            grad_w1, grad_w2 = self.relu_gradient(x_batches[batch], y_batches[batch])\n",
        "            self.w1 -= learning_rate * grad_w1 #* (1/num_of_batches)\n",
        "            self.w2 -= learning_rate * grad_w2 #* (1/num_of_batches)\n",
        "          t += 1\n",
        "          print(t, end=' ')\n",
        "      print(\"\")\n",
        "      print(f\"{t} iterations performed\")\n",
        "      return\n",
        "\n",
        "    \n",
        "    #TAN_H WITH 0 HIDDEN LAYERS\n",
        "    if self.activation_function == self.tanh and self.num_hidden_layers == 0:\n",
        "      while np.any(norms > epsilon) and t < max_iters:\n",
        "          for batch in range(num_of_batches):\n",
        "            grad = self.tanh_gradient(x_batches[batch], y_batches[batch])\n",
        "            self.w1 -= learning_rate * grad * (1/num_of_batches)\n",
        "          t += 1\n",
        "          norms = np.array([np.linalg.norm(g) for g in grad])\n",
        "          print(t, end=' ')\n",
        "      print(\"\")\n",
        "      print(f\"{t} iterations performed\")\n",
        "      return\n",
        "\n",
        "    if self.activation_function == self.tanh and self.num_hidden_layers == 1:\n",
        "      while np.any(norms > epsilon) and t < max_iters:\n",
        "          for batch in range(num_of_batches):\n",
        "            grad_w1, grad_w2 = self.tanh_gradient(x_batches[batch], y_batches[batch])\n",
        "            self.w1 -= learning_rate * grad_w1 # * (1/num_of_batches)\n",
        "            self.w2 -= learning_rate * grad_w2 # * (1/num_of_batches)\n",
        "          t += 1\n",
        "          print(t, end=' ')\n",
        "      print(\"\")\n",
        "      print(f\"{t} iterations performed\")\n",
        "      return\n",
        "\n",
        "\n",
        "\n",
        "  def relu_gradient(self, x, y):\n",
        "\n",
        "    y_hat = self.predict(x)\n",
        "    self.loss_per_epoch.append(MultiLayerPerceptron.total_loss(y, y_hat))\n",
        "    N, D = x.shape\n",
        "\n",
        "    if self.num_hidden_layers == 0:\n",
        "      dy = y_hat - y\n",
        "      dw1 = np.matmul(np.transpose(dy), x)\n",
        "      return dw1\n",
        "\n",
        "    elif self.num_hidden_layers == 1:\n",
        "      dy = y_hat - y\n",
        "      dw2 = np.dot(np.transpose(dy), np.transpose(self.z1_for_gradient)) / N\n",
        "      derivative_q1 = (self.q1_for_gradient > 0).astype(int)\n",
        "      tmp_dw1 = np.matmul(y, self.w2)\n",
        "      tmp_dw1 = tmp_dw1 * np.transpose(derivative_q1)\n",
        "      dw1 = np.matmul(np.transpose(x), tmp_dw1)\n",
        "      dw1 = np.transpose(dw1)\n",
        "      dz = np.dot(dy, self.w2)\n",
        "      dv = np.dot(x.T, dz * derivative_q1.T).T / N\n",
        "      return dv, dw2\n",
        "\n",
        "  def tanh_gradient(self, x, y):\n",
        "    y_hat = self.predict(x)\n",
        "    self.loss_per_epoch.append(MultiLayerPerceptron.total_loss(y, y_hat))\n",
        "    N, D = x.shape\n",
        "\n",
        "    if self.num_hidden_layers == 0:\n",
        "      dy = y_hat - y\n",
        "      dw1 = np.matmul(np.transpose(dy), x)\n",
        "      return dw1\n",
        "\n",
        "    if self.num_hidden_layers == 1:\n",
        "      dy = y_hat - y\n",
        "      dw = (np.dot(self.z1_for_gradient, dy) / N).T\n",
        "      dz = np.dot(dy, self.w2)\n",
        "      dv = (np.dot(x.T, dz * (1 - (self.z1_for_gradient.T)**2)) / N).T\n",
        "      return dv, dw\n",
        "\n",
        "\n",
        "  def predict(self, x):\n",
        "\n",
        "    if self.num_hidden_layers == 0:\n",
        "      return self.softmax(np.transpose(np.dot(self.w1, np.transpose(x))))\n",
        "\n",
        "    elif self.num_hidden_layers == 1:\n",
        "      q1 = np.dot(self.w1, np.transpose(x))\n",
        "      z1 = self.activation_function(q1)\n",
        "      self.q1_for_gradient = q1\n",
        "      self.z1_for_gradient = z1\n",
        "      return self.softmax(np.transpose(np.dot(self.w2, z1)))\n",
        "    else:\n",
        "      z1 = self.activation_function(np.matmul(self.w1, np.transpose(x)))\n",
        "      z2 = self.activation_function(np.matmul(self.w2, z1))\n",
        "      return self.softmax(np.transpose(np.matmul(self.w3, z2)))\n",
        "\n",
        "  \n",
        "  @staticmethod\n",
        "  def relu(x):\n",
        "    return (x + np.abs(x))/2\n",
        "\n",
        "  @staticmethod\n",
        "  def tanh(x):\n",
        "    return (np.exp(x) - np.exp(-x)) / (np.exp(x) + np.exp(-x))\n",
        "\n",
        "  @staticmethod\n",
        "  def softmax(x):\n",
        "    R, C = x.shape\n",
        "    for i in range(R):\n",
        "      denominator = sum([np.exp(j) for j in x[i]])\n",
        "      denominator = denominator if denominator > 0 else 1\n",
        "      for j in range(C):\n",
        "        x[i][j] = np.exp(x[i][j])/denominator\n",
        "    return x\n",
        "\n",
        "  @staticmethod\n",
        "  def accuracy(y, y_hat):\n",
        "\n",
        "    accurate_classifications = 0\n",
        "\n",
        "    for i, y in enumerate(y):\n",
        "      category = np.argmax(y)\n",
        "      predicted_category = np.argmax(y_hat[i])\n",
        "\n",
        "      if category == predicted_category:\n",
        "        accurate_classifications += 1\n",
        "\n",
        "    return accurate_classifications/len(y_hat)\n",
        "\n",
        "  @staticmethod\n",
        "  def total_loss(y, y_hat):\n",
        "\n",
        "    loss = 0\n",
        "\n",
        "    for i, y in enumerate(y):\n",
        "      category = np.argmax(y)\n",
        "      predicted_value = y_hat[i][category]\n",
        "      loss += (-1 * np.log(predicted_value))\n",
        "\n",
        "    return loss\n",
        "\n"
      ]
    },
    {
      "cell_type": "code",
      "execution_count": 215,
      "metadata": {
        "colab": {
          "base_uri": "https://localhost:8080/",
          "height": 336
        },
        "id": "_1yaz8_PzH79",
        "outputId": "ba0aa47b-5372-436b-f5c0-962473eec850"
      },
      "outputs": [
        {
          "name": "stdout",
          "output_type": "stream",
          "text": [
            "Epochs: \n",
            "1 2 3 4 5 6 7 8 9 10 \n",
            "10 iterations performed\n",
            "Accuracy:  62.2 %\n"
          ]
        },
        {
          "data": {
            "image/png": "[encoded data removed]",
            "text/plain": [
              "<Figure size 432x288 with 1 Axes>"
            ]
          },
          "metadata": {
            "needs_background": "light"
          },
          "output_type": "display_data"
        }
      ],
      "source": [
        "shuffle = list(zip(x_train, y_train))\n",
        "random.shuffle(shuffle)\n",
        "x_train, y_train = zip(*shuffle)\n",
        "num_train = 500\n",
        "\n",
        "mlp = MultiLayerPerceptron(MultiLayerPerceptron.tanh, 0, [300])\n",
        "mlp.fit(x_train[:num_train], y_train[:num_train], learning_rate=0.0004, epsilon=0.0000001, max_iters=10, batch_size=100)\n",
        "preds = mlp.predict(x_train[:num_train])\n",
        "print(\"Accuracy: \", MultiLayerPerceptron.accuracy(y_train[:num_train], preds)*100, \"%\")\n",
        "plt.plot(range(len(mlp.loss_per_epoch)), mlp.loss_per_epoch)\n",
        "plt.show()"
      ]
    }
  ],
  "metadata": {
    "colab": {
      "collapsed_sections": [
        "eF8NxZpHpz3I"
      ],
      "provenance": [],
      "toc_visible": true
    },
    "kernelspec": {
      "display_name": "Python 3",
      "name": "python3"
    },
    "language_info": {
      "name": "python"
    }
  },
  "nbformat": 4,
  "nbformat_minor": 0
}
